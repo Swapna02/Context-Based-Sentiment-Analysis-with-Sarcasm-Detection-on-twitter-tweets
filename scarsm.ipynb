{
 "cells": [
  {
   "cell_type": "code",
   "execution_count": 1,
   "metadata": {},
   "outputs": [],
   "source": [
    "import numpy as np\n",
    "import pandas as pd\n",
    "import re\n",
    "from keras.preprocessing.text import Tokenizer\n",
    "from keras.preprocessing.sequence import pad_sequences\n",
    "from sklearn.model_selection import train_test_split\n",
    "from keras.models import Sequential\n",
    "from keras.layers import Dense,LSTM,Embedding,Flatten,Dropout\n",
    "from tensorflow import keras\n",
    "from keras.callbacks import EarlyStopping\n",
    "import pickle\n",
    "from keras.models import load_model"
   ]
  },
  {
   "cell_type": "code",
   "execution_count": 2,
   "metadata": {},
   "outputs": [],
   "source": [
    "import spacy"
   ]
  },
  {
   "cell_type": "code",
   "execution_count": 3,
   "metadata": {},
   "outputs": [],
   "source": [
    "nlp=spacy.load('en_core_web_lg')"
   ]
  },
  {
   "cell_type": "code",
   "execution_count": 4,
   "metadata": {},
   "outputs": [
    {
     "name": "stderr",
     "output_type": "stream",
     "text": [
      "c:\\users\\asus\\appdata\\local\\programs\\python\\python37\\lib\\site-packages\\ipykernel_launcher.py:1: FutureWarning: Starting with Pandas version 2.0 all arguments of read_json except for the argument 'path_or_buf' will be keyword-only\n",
      "  \"\"\"Entry point for launching an IPython kernel.\n",
      "c:\\users\\asus\\appdata\\local\\programs\\python\\python37\\lib\\site-packages\\ipykernel_launcher.py:2: FutureWarning: Starting with Pandas version 2.0 all arguments of read_json except for the argument 'path_or_buf' will be keyword-only\n",
      "  \n"
     ]
    }
   ],
   "source": [
    "df2 = pd.read_json(\"Sarcasm_Headlines_Dataset.json\", 'r',lines=True)\n",
    "dff2 = pd.read_json(\"Sarcasm_Headlines_Dataset_v2.json\", 'r',lines=True)\n",
    "df =  pd.concat([df2, dff2])"
   ]
  },
  {
   "cell_type": "code",
   "execution_count": 5,
   "metadata": {},
   "outputs": [
    {
     "data": {
      "text/html": [
       "<div>\n",
       "<style scoped>\n",
       "    .dataframe tbody tr th:only-of-type {\n",
       "        vertical-align: middle;\n",
       "    }\n",
       "\n",
       "    .dataframe tbody tr th {\n",
       "        vertical-align: top;\n",
       "    }\n",
       "\n",
       "    .dataframe thead th {\n",
       "        text-align: right;\n",
       "    }\n",
       "</style>\n",
       "<table border=\"1\" class=\"dataframe\">\n",
       "  <thead>\n",
       "    <tr style=\"text-align: right;\">\n",
       "      <th></th>\n",
       "      <th>article_link</th>\n",
       "      <th>headline</th>\n",
       "      <th>is_sarcastic</th>\n",
       "    </tr>\n",
       "  </thead>\n",
       "  <tbody>\n",
       "    <tr>\n",
       "      <th>1998</th>\n",
       "      <td>https://politics.theonion.com/precious-little-...</td>\n",
       "      <td>precious little voter needs to feel inspired b...</td>\n",
       "      <td>1</td>\n",
       "    </tr>\n",
       "    <tr>\n",
       "      <th>1999</th>\n",
       "      <td>https://politics.theonion.com/last-line-of-oba...</td>\n",
       "      <td>last line of obama's military force request br...</td>\n",
       "      <td>1</td>\n",
       "    </tr>\n",
       "    <tr>\n",
       "      <th>2000</th>\n",
       "      <td>https://www.huffingtonpost.com/entry/mh370-the...</td>\n",
       "      <td>couple stole $35,000 from missing plane victim...</td>\n",
       "      <td>0</td>\n",
       "    </tr>\n",
       "    <tr>\n",
       "      <th>2001</th>\n",
       "      <td>https://www.huffingtonpost.com/entry/dodd-fran...</td>\n",
       "      <td>dodd-frank at four</td>\n",
       "      <td>0</td>\n",
       "    </tr>\n",
       "    <tr>\n",
       "      <th>2002</th>\n",
       "      <td>https://www.huffingtonpost.com/entry/what-bein...</td>\n",
       "      <td>what being a christian means to me: don't worr...</td>\n",
       "      <td>0</td>\n",
       "    </tr>\n",
       "    <tr>\n",
       "      <th>2003</th>\n",
       "      <td>https://www.huffingtonpost.com/entry/mom-kicks...</td>\n",
       "      <td>video shows mom kicking child out for voting f...</td>\n",
       "      <td>0</td>\n",
       "    </tr>\n",
       "  </tbody>\n",
       "</table>\n",
       "</div>"
      ],
      "text/plain": [
       "                                           article_link  \\\n",
       "1998  https://politics.theonion.com/precious-little-...   \n",
       "1999  https://politics.theonion.com/last-line-of-oba...   \n",
       "2000  https://www.huffingtonpost.com/entry/mh370-the...   \n",
       "2001  https://www.huffingtonpost.com/entry/dodd-fran...   \n",
       "2002  https://www.huffingtonpost.com/entry/what-bein...   \n",
       "2003  https://www.huffingtonpost.com/entry/mom-kicks...   \n",
       "\n",
       "                                               headline  is_sarcastic  \n",
       "1998  precious little voter needs to feel inspired b...             1  \n",
       "1999  last line of obama's military force request br...             1  \n",
       "2000  couple stole $35,000 from missing plane victim...             0  \n",
       "2001                                 dodd-frank at four             0  \n",
       "2002  what being a christian means to me: don't worr...             0  \n",
       "2003  video shows mom kicking child out for voting f...             0  "
      ]
     },
     "execution_count": 5,
     "metadata": {},
     "output_type": "execute_result"
    }
   ],
   "source": [
    "df[1998:2004]"
   ]
  },
  {
   "cell_type": "code",
   "execution_count": 6,
   "metadata": {},
   "outputs": [],
   "source": [
    "def clean_text(text):\n",
    "    text = text.lower()\n",
    "    text = \" \".join(filter(lambda x:x[0]!='@', text.split()))\n",
    "    text = text.lower()\n",
    "    text = re.sub(r\"[,.\\\"\\'!@#$%^&*(){}?/;`~:<>+=-]\", \"\", text)\n",
    "    return text"
   ]
  },
  {
   "cell_type": "code",
   "execution_count": 7,
   "metadata": {},
   "outputs": [],
   "source": [
    "# new_text=[]\n",
    "# for text in df['data']:  \n",
    "#       new_text.append(clean_text(text))\n",
    "# df['clean_text']=new_text"
   ]
  },
  {
   "cell_type": "code",
   "execution_count": 8,
   "metadata": {},
   "outputs": [
    {
     "data": {
      "text/html": [
       "<div>\n",
       "<style scoped>\n",
       "    .dataframe tbody tr th:only-of-type {\n",
       "        vertical-align: middle;\n",
       "    }\n",
       "\n",
       "    .dataframe tbody tr th {\n",
       "        vertical-align: top;\n",
       "    }\n",
       "\n",
       "    .dataframe thead th {\n",
       "        text-align: right;\n",
       "    }\n",
       "</style>\n",
       "<table border=\"1\" class=\"dataframe\">\n",
       "  <thead>\n",
       "    <tr style=\"text-align: right;\">\n",
       "      <th></th>\n",
       "      <th>article_link</th>\n",
       "      <th>headline</th>\n",
       "      <th>is_sarcastic</th>\n",
       "    </tr>\n",
       "  </thead>\n",
       "  <tbody>\n",
       "    <tr>\n",
       "      <th>0</th>\n",
       "      <td>https://www.huffingtonpost.com/entry/versace-b...</td>\n",
       "      <td>former versace store clerk sues over secret 'b...</td>\n",
       "      <td>0</td>\n",
       "    </tr>\n",
       "    <tr>\n",
       "      <th>1</th>\n",
       "      <td>https://www.huffingtonpost.com/entry/roseanne-...</td>\n",
       "      <td>the 'roseanne' revival catches up to our thorn...</td>\n",
       "      <td>0</td>\n",
       "    </tr>\n",
       "    <tr>\n",
       "      <th>2</th>\n",
       "      <td>https://local.theonion.com/mom-starting-to-fea...</td>\n",
       "      <td>mom starting to fear son's web series closest ...</td>\n",
       "      <td>1</td>\n",
       "    </tr>\n",
       "    <tr>\n",
       "      <th>3</th>\n",
       "      <td>https://politics.theonion.com/boehner-just-wan...</td>\n",
       "      <td>boehner just wants wife to listen, not come up...</td>\n",
       "      <td>1</td>\n",
       "    </tr>\n",
       "    <tr>\n",
       "      <th>4</th>\n",
       "      <td>https://www.huffingtonpost.com/entry/jk-rowlin...</td>\n",
       "      <td>j.k. rowling wishes snape happy birthday in th...</td>\n",
       "      <td>0</td>\n",
       "    </tr>\n",
       "  </tbody>\n",
       "</table>\n",
       "</div>"
      ],
      "text/plain": [
       "                                        article_link  \\\n",
       "0  https://www.huffingtonpost.com/entry/versace-b...   \n",
       "1  https://www.huffingtonpost.com/entry/roseanne-...   \n",
       "2  https://local.theonion.com/mom-starting-to-fea...   \n",
       "3  https://politics.theonion.com/boehner-just-wan...   \n",
       "4  https://www.huffingtonpost.com/entry/jk-rowlin...   \n",
       "\n",
       "                                            headline  is_sarcastic  \n",
       "0  former versace store clerk sues over secret 'b...             0  \n",
       "1  the 'roseanne' revival catches up to our thorn...             0  \n",
       "2  mom starting to fear son's web series closest ...             1  \n",
       "3  boehner just wants wife to listen, not come up...             1  \n",
       "4  j.k. rowling wishes snape happy birthday in th...             0  "
      ]
     },
     "execution_count": 8,
     "metadata": {},
     "output_type": "execute_result"
    }
   ],
   "source": [
    "df.head()"
   ]
  },
  {
   "cell_type": "code",
   "execution_count": 9,
   "metadata": {},
   "outputs": [],
   "source": [
    "X=df['headline'].values\n",
    "y=df['is_sarcastic'].values"
   ]
  },
  {
   "cell_type": "code",
   "execution_count": 10,
   "metadata": {},
   "outputs": [],
   "source": [
    "X_train,X_test,y_train,y_test=train_test_split(X,y,test_size=0.3,random_state=42)"
   ]
  },
  {
   "cell_type": "code",
   "execution_count": 11,
   "metadata": {},
   "outputs": [],
   "source": [
    "vocab_size=3000\n",
    "embedding_dim=32\n",
    "max_len=32\n",
    "trunc_type='post'\n",
    "padding_type='post'"
   ]
  },
  {
   "cell_type": "code",
   "execution_count": 12,
   "metadata": {},
   "outputs": [],
   "source": [
    "tokenizer= Tokenizer(num_words=vocab_size, oov_token='OOV')\n",
    "tokenizer.fit_on_texts(X_train)\n",
    "\n",
    "training_sequences=tokenizer.texts_to_sequences(X_train)\n",
    "training_padded=pad_sequences(training_sequences, maxlen=max_len, padding=padding_type, truncating=trunc_type)\n",
    "\n",
    "testing_sequences=tokenizer.texts_to_sequences(X_test)\n",
    "testing_padded=pad_sequences(testing_sequences, maxlen=max_len, padding=padding_type, truncating=trunc_type)"
   ]
  },
  {
   "cell_type": "code",
   "execution_count": 13,
   "metadata": {},
   "outputs": [],
   "source": [
    "def create_model(vocabulary_size,embedding_dim,seq_len):\n",
    "    model=Sequential()\n",
    "    model.add(Embedding(vocabulary_size,embedding_dim,input_length=seq_len))\n",
    "    model.add(LSTM(64,dropout=0.2,recurrent_dropout=0.25))\n",
    "    model.add(Dense(1,activation='sigmoid'))\n",
    "    opt = keras.optimizers.Adam(learning_rate=0.01)\n",
    "    model.compile(loss='binary_crossentropy',optimizer=opt,metrics=['accuracy'])\n",
    "    model.summary()\n",
    "    return model"
   ]
  },
  {
   "cell_type": "code",
   "execution_count": 14,
   "metadata": {},
   "outputs": [
    {
     "name": "stdout",
     "output_type": "stream",
     "text": [
      "Model: \"sequential\"\n",
      "_________________________________________________________________\n",
      "Layer (type)                 Output Shape              Param #   \n",
      "=================================================================\n",
      "embedding (Embedding)        (None, 32, 32)            96032     \n",
      "_________________________________________________________________\n",
      "lstm (LSTM)                  (None, 64)                24832     \n",
      "_________________________________________________________________\n",
      "dense (Dense)                (None, 1)                 65        \n",
      "=================================================================\n",
      "Total params: 120,929\n",
      "Trainable params: 120,929\n",
      "Non-trainable params: 0\n",
      "_________________________________________________________________\n"
     ]
    }
   ],
   "source": [
    "model=create_model(vocab_size+1,embedding_dim,max_len)"
   ]
  },
  {
   "cell_type": "code",
   "execution_count": 15,
   "metadata": {},
   "outputs": [],
   "source": [
    "es = EarlyStopping(monitor='val_loss', mode='min', verbose=2, patience=7)"
   ]
  },
  {
   "cell_type": "code",
   "execution_count": 16,
   "metadata": {},
   "outputs": [
    {
     "name": "stdout",
     "output_type": "stream",
     "text": [
      "Epoch 1/50\n",
      "303/303 - 34s - loss: 0.6454 - accuracy: 0.6262 - val_loss: 0.6600 - val_accuracy: 0.5905\n",
      "Epoch 2/50\n",
      "303/303 - 25s - loss: 0.4517 - accuracy: 0.7884 - val_loss: 0.3676 - val_accuracy: 0.8408\n",
      "Epoch 3/50\n",
      "303/303 - 19s - loss: 0.3193 - accuracy: 0.8653 - val_loss: 0.3285 - val_accuracy: 0.8663\n",
      "Epoch 4/50\n",
      "303/303 - 18s - loss: 0.2748 - accuracy: 0.8884 - val_loss: 0.2918 - val_accuracy: 0.8826\n",
      "Epoch 5/50\n",
      "303/303 - 18s - loss: 0.2510 - accuracy: 0.9012 - val_loss: 0.2998 - val_accuracy: 0.8791\n",
      "Epoch 6/50\n",
      "303/303 - 19s - loss: 0.2373 - accuracy: 0.9074 - val_loss: 0.2782 - val_accuracy: 0.8896\n",
      "Epoch 7/50\n",
      "303/303 - 19s - loss: 0.2103 - accuracy: 0.9195 - val_loss: 0.2773 - val_accuracy: 0.8917\n",
      "Epoch 8/50\n",
      "303/303 - 19s - loss: 0.1922 - accuracy: 0.9289 - val_loss: 0.2640 - val_accuracy: 0.9013\n",
      "Epoch 9/50\n",
      "303/303 - 18s - loss: 0.1865 - accuracy: 0.9305 - val_loss: 0.2594 - val_accuracy: 0.9065\n",
      "Epoch 10/50\n",
      "303/303 - 17s - loss: 0.1729 - accuracy: 0.9362 - val_loss: 0.2695 - val_accuracy: 0.9029\n",
      "Epoch 11/50\n",
      "303/303 - 17s - loss: 0.2139 - accuracy: 0.9172 - val_loss: 0.2785 - val_accuracy: 0.8889\n",
      "Epoch 12/50\n",
      "303/303 - 18s - loss: 0.2073 - accuracy: 0.9180 - val_loss: 0.2747 - val_accuracy: 0.8967\n",
      "Epoch 13/50\n",
      "303/303 - 18s - loss: 0.1855 - accuracy: 0.9278 - val_loss: 0.2557 - val_accuracy: 0.9022\n",
      "Epoch 14/50\n",
      "303/303 - 19s - loss: 0.1680 - accuracy: 0.9349 - val_loss: 0.2561 - val_accuracy: 0.9054\n",
      "Epoch 15/50\n",
      "303/303 - 19s - loss: 0.1514 - accuracy: 0.9434 - val_loss: 0.2664 - val_accuracy: 0.9082\n",
      "Epoch 16/50\n",
      "303/303 - 18s - loss: 0.1416 - accuracy: 0.9461 - val_loss: 0.2471 - val_accuracy: 0.9144\n",
      "Epoch 17/50\n",
      "303/303 - 19s - loss: 0.1350 - accuracy: 0.9487 - val_loss: 0.2520 - val_accuracy: 0.9154\n",
      "Epoch 18/50\n",
      "303/303 - 19s - loss: 0.1272 - accuracy: 0.9531 - val_loss: 0.2450 - val_accuracy: 0.9157\n",
      "Epoch 19/50\n",
      "303/303 - 18s - loss: 0.1233 - accuracy: 0.9540 - val_loss: 0.2494 - val_accuracy: 0.9196\n",
      "Epoch 20/50\n",
      "303/303 - 18s - loss: 0.1172 - accuracy: 0.9565 - val_loss: 0.2513 - val_accuracy: 0.9216\n",
      "Epoch 21/50\n",
      "303/303 - 18s - loss: 0.1107 - accuracy: 0.9590 - val_loss: 0.2525 - val_accuracy: 0.9223\n",
      "Epoch 22/50\n",
      "303/303 - 18s - loss: 0.1059 - accuracy: 0.9611 - val_loss: 0.2540 - val_accuracy: 0.9227\n",
      "Epoch 23/50\n",
      "303/303 - 18s - loss: 0.1009 - accuracy: 0.9628 - val_loss: 0.2473 - val_accuracy: 0.9234\n",
      "Epoch 24/50\n",
      "303/303 - 19s - loss: 0.1024 - accuracy: 0.9626 - val_loss: 0.2565 - val_accuracy: 0.9228\n",
      "Epoch 25/50\n",
      "303/303 - 23s - loss: 0.0963 - accuracy: 0.9647 - val_loss: 0.2689 - val_accuracy: 0.9249\n",
      "Epoch 00025: early stopping\n"
     ]
    },
    {
     "data": {
      "text/plain": [
       "<tensorflow.python.keras.callbacks.History at 0x1f8acd53ba8>"
      ]
     },
     "execution_count": 16,
     "metadata": {},
     "output_type": "execute_result"
    }
   ],
   "source": [
    "model.fit(training_padded,y_train,batch_size=128,epochs=50,verbose=2,validation_data=(testing_padded,y_test),callbacks=[es])"
   ]
  },
  {
   "cell_type": "code",
   "execution_count": 17,
   "metadata": {},
   "outputs": [],
   "source": [
    "model.save(\"sarcasm_model1.h5\")"
   ]
  },
  {
   "cell_type": "code",
   "execution_count": 18,
   "metadata": {},
   "outputs": [],
   "source": [
    "def prediction_text(sent):\n",
    "    sent=[sent]\n",
    "    seq=tokenizer.texts_to_sequences(sent)\n",
    "    padded=pad_sequences(seq,maxlen=max_len,padding=padding_type, truncating=trunc_type)\n",
    "    return model.predict(padded)\n",
    "    "
   ]
  },
  {
   "cell_type": "code",
   "execution_count": 19,
   "metadata": {},
   "outputs": [
    {
     "name": "stdout",
     "output_type": "stream",
     "text": [
      "[[0.11280417]]\n"
     ]
    }
   ],
   "source": [
    "sent=\"you broke my car,good job!\"\n",
    "print(prediction_text(sent)) "
   ]
  },
  {
   "cell_type": "code",
   "execution_count": 20,
   "metadata": {},
   "outputs": [
    {
     "name": "stdout",
     "output_type": "stream",
     "text": [
      "Model: \"sequential_1\"\n",
      "_________________________________________________________________\n",
      "Layer (type)                 Output Shape              Param #   \n",
      "=================================================================\n",
      "embedding_1 (Embedding)      (None, 32, 32)            96000     \n",
      "_________________________________________________________________\n",
      "flatten (Flatten)            (None, 1024)              0         \n",
      "_________________________________________________________________\n",
      "dense_1 (Dense)              (None, 32)                32800     \n",
      "_________________________________________________________________\n",
      "dropout (Dropout)            (None, 32)                0         \n",
      "_________________________________________________________________\n",
      "dense_2 (Dense)              (None, 10)                330       \n",
      "_________________________________________________________________\n",
      "dropout_1 (Dropout)          (None, 10)                0         \n",
      "_________________________________________________________________\n",
      "dense_3 (Dense)              (None, 1)                 11        \n",
      "=================================================================\n",
      "Total params: 129,141\n",
      "Trainable params: 129,141\n",
      "Non-trainable params: 0\n",
      "_________________________________________________________________\n"
     ]
    }
   ],
   "source": [
    "# 2nd model\n",
    "model2 = Sequential()\n",
    "model2.add(Embedding(vocab_size, embedding_dim, input_length=max_len))\n",
    "model2.add(Flatten())\n",
    "\n",
    "model2.add(Dense(units=32,activation='relu'))\n",
    "model2.add(Dropout(0.5))\n",
    "\n",
    "model2.add(Dense(units=10,activation='relu'))\n",
    "model2.add(Dropout(0.5))\n",
    "\n",
    "model2.add(Dense(units=1,activation='sigmoid'))\n",
    "opt = keras.optimizers.Adam(learning_rate=0.01)\n",
    "model2.compile(loss='binary_crossentropy', optimizer=opt, metrics=['accuracy'])\n",
    "model2.summary()"
   ]
  },
  {
   "cell_type": "code",
   "execution_count": 21,
   "metadata": {},
   "outputs": [],
   "source": [
    "es = EarlyStopping(monitor='val_loss', mode='min', verbose=2, patience=7)"
   ]
  },
  {
   "cell_type": "code",
   "execution_count": 22,
   "metadata": {},
   "outputs": [
    {
     "name": "stdout",
     "output_type": "stream",
     "text": [
      "Epoch 1/10\n",
      "303/303 - 2s - loss: 0.4210 - accuracy: 0.8035 - val_loss: 0.2792 - val_accuracy: 0.8851\n",
      "Epoch 2/10\n",
      "303/303 - 1s - loss: 0.2585 - accuracy: 0.9019 - val_loss: 0.2441 - val_accuracy: 0.9071\n",
      "Epoch 3/10\n",
      "303/303 - 1s - loss: 0.1816 - accuracy: 0.9351 - val_loss: 0.2244 - val_accuracy: 0.9225\n",
      "Epoch 4/10\n",
      "303/303 - 1s - loss: 0.1302 - accuracy: 0.9530 - val_loss: 0.2829 - val_accuracy: 0.9222\n",
      "Epoch 5/10\n",
      "303/303 - 1s - loss: 0.1106 - accuracy: 0.9603 - val_loss: 0.2951 - val_accuracy: 0.9322\n",
      "Epoch 6/10\n",
      "303/303 - 1s - loss: 0.0890 - accuracy: 0.9677 - val_loss: 0.2942 - val_accuracy: 0.9317\n",
      "Epoch 7/10\n",
      "303/303 - 1s - loss: 0.0816 - accuracy: 0.9696 - val_loss: 0.3619 - val_accuracy: 0.9349\n",
      "Epoch 8/10\n",
      "303/303 - 1s - loss: 0.0731 - accuracy: 0.9742 - val_loss: 0.3841 - val_accuracy: 0.9307\n",
      "Epoch 9/10\n",
      "303/303 - 1s - loss: 0.0628 - accuracy: 0.9769 - val_loss: 0.5461 - val_accuracy: 0.9379\n",
      "Epoch 10/10\n",
      "303/303 - 1s - loss: 0.0639 - accuracy: 0.9767 - val_loss: 0.5493 - val_accuracy: 0.9363\n",
      "Epoch 00010: early stopping\n"
     ]
    },
    {
     "data": {
      "text/plain": [
       "<tensorflow.python.keras.callbacks.History at 0x1f8b6f5bba8>"
      ]
     },
     "execution_count": 22,
     "metadata": {},
     "output_type": "execute_result"
    }
   ],
   "source": [
    "model2.fit(training_padded,y_train,batch_size=128,epochs=10,verbose=2,validation_data=(testing_padded,y_test),callbacks=[es])"
   ]
  },
  {
   "cell_type": "code",
   "execution_count": 23,
   "metadata": {},
   "outputs": [],
   "source": [
    "model2.save(\"sarcasm_model2.h5\")"
   ]
  },
  {
   "cell_type": "code",
   "execution_count": 24,
   "metadata": {},
   "outputs": [],
   "source": [
    "def prediction_text2(sent):\n",
    "    sent=[sent]\n",
    "    seq=tokenizer.texts_to_sequences(sent)\n",
    "    padded=pad_sequences(seq,maxlen=max_len,padding=padding_type, truncating=trunc_type)\n",
    "    return model2.predict(padded)"
   ]
  },
  {
   "cell_type": "code",
   "execution_count": 25,
   "metadata": {},
   "outputs": [
    {
     "name": "stdout",
     "output_type": "stream",
     "text": [
      "[[0.9998937]]\n"
     ]
    }
   ],
   "source": [
    "sent=\"you broke my car , good job\"\n",
    "print(prediction_text2(sent))"
   ]
  }
 ],
 "metadata": {
  "kernelspec": {
   "display_name": "Python 3",
   "language": "python",
   "name": "python3"
  },
  "language_info": {
   "codemirror_mode": {
    "name": "ipython",
    "version": 3
   },
   "file_extension": ".py",
   "mimetype": "text/x-python",
   "name": "python",
   "nbconvert_exporter": "python",
   "pygments_lexer": "ipython3",
   "version": "3.7.1"
  }
 },
 "nbformat": 4,
 "nbformat_minor": 5
}
