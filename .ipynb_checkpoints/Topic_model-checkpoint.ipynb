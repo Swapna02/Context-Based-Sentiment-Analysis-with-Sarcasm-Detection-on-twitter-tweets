{
 "cells": [
  {
   "cell_type": "code",
   "execution_count": 1,
   "metadata": {},
   "outputs": [],
   "source": [
    "import pandas as pd\n",
    "import numpy as np\n",
    "import re\n",
    "import string\n",
    "import spacy\n",
    "from sklearn.metrics import accuracy_score,classification_report,confusion_matrix\n",
    "from sklearn.decomposition import NMF\n",
    "from sklearn.feature_extraction.text import TfidfVectorizer\n",
    "import matplotlib.pyplot as plt\n",
    "from sklearn.model_selection import train_test_split\n",
    "from sklearn.feature_extraction.text import TfidfVectorizer\n",
    "from sklearn.pipeline import Pipeline\n",
    "from sklearn.svm import LinearSVC\n",
    "import pickle"
   ]
  },
  {
   "cell_type": "code",
   "execution_count": 2,
   "metadata": {},
   "outputs": [],
   "source": [
    "nlp=spacy.load('en_core_web_lg')"
   ]
  },
  {
   "cell_type": "code",
   "execution_count": 3,
   "metadata": {},
   "outputs": [
    {
     "data": {
      "text/html": [
       "<div>\n",
       "<style scoped>\n",
       "    .dataframe tbody tr th:only-of-type {\n",
       "        vertical-align: middle;\n",
       "    }\n",
       "\n",
       "    .dataframe tbody tr th {\n",
       "        vertical-align: top;\n",
       "    }\n",
       "\n",
       "    .dataframe thead th {\n",
       "        text-align: right;\n",
       "    }\n",
       "</style>\n",
       "<table border=\"1\" class=\"dataframe\">\n",
       "  <thead>\n",
       "    <tr style=\"text-align: right;\">\n",
       "      <th></th>\n",
       "      <th>data</th>\n",
       "      <th>category</th>\n",
       "    </tr>\n",
       "  </thead>\n",
       "  <tbody>\n",
       "    <tr>\n",
       "      <th>0</th>\n",
       "      <td>Sport pertains to any form of competitive phys...</td>\n",
       "      <td>sports</td>\n",
       "    </tr>\n",
       "    <tr>\n",
       "      <th>1</th>\n",
       "      <td>Sports can, through casual or organized parti...</td>\n",
       "      <td>sports</td>\n",
       "    </tr>\n",
       "    <tr>\n",
       "      <th>2</th>\n",
       "      <td>Hundreds of sports exist, from those between ...</td>\n",
       "      <td>sports</td>\n",
       "    </tr>\n",
       "    <tr>\n",
       "      <th>3</th>\n",
       "      <td>In certain sports such as racing, many contes...</td>\n",
       "      <td>sports</td>\n",
       "    </tr>\n",
       "    <tr>\n",
       "      <th>4</th>\n",
       "      <td>Some sports allow a \"tie\" or \"draw\", in which...</td>\n",
       "      <td>sports</td>\n",
       "    </tr>\n",
       "    <tr>\n",
       "      <th>5</th>\n",
       "      <td>A number of contests may be arranged in a tou...</td>\n",
       "      <td>sports</td>\n",
       "    </tr>\n",
       "    <tr>\n",
       "      <th>6</th>\n",
       "      <td>Many sports leagues make an annual champion b...</td>\n",
       "      <td>sports</td>\n",
       "    </tr>\n",
       "    <tr>\n",
       "      <th>7</th>\n",
       "      <td>Sport is generally recognised as system of act...</td>\n",
       "      <td>sports</td>\n",
       "    </tr>\n",
       "    <tr>\n",
       "      <th>8</th>\n",
       "      <td>Other organisations, such as the Council of E...</td>\n",
       "      <td>sports</td>\n",
       "    </tr>\n",
       "    <tr>\n",
       "      <th>9</th>\n",
       "      <td>However, a number of competitive, but non-phy...</td>\n",
       "      <td>sports</td>\n",
       "    </tr>\n",
       "  </tbody>\n",
       "</table>\n",
       "</div>"
      ],
      "text/plain": [
       "                                                data category\n",
       "0  Sport pertains to any form of competitive phys...   sports\n",
       "1   Sports can, through casual or organized parti...   sports\n",
       "2   Hundreds of sports exist, from those between ...   sports\n",
       "3   In certain sports such as racing, many contes...   sports\n",
       "4   Some sports allow a \"tie\" or \"draw\", in which...   sports\n",
       "5   A number of contests may be arranged in a tou...   sports\n",
       "6   Many sports leagues make an annual champion b...   sports\n",
       "7  Sport is generally recognised as system of act...   sports\n",
       "8   Other organisations, such as the Council of E...   sports\n",
       "9   However, a number of competitive, but non-phy...   sports"
      ]
     },
     "execution_count": 3,
     "metadata": {},
     "output_type": "execute_result"
    }
   ],
   "source": [
    "df = pd.read_csv('combined_csv.csv')\n",
    "df.head(10)"
   ]
  },
  {
   "cell_type": "code",
   "execution_count": 4,
   "metadata": {},
   "outputs": [],
   "source": [
    "from sklearn.utils import shuffle\n",
    "df = shuffle(df)"
   ]
  },
  {
   "cell_type": "code",
   "execution_count": 5,
   "metadata": {},
   "outputs": [
    {
     "data": {
      "text/html": [
       "<div>\n",
       "<style scoped>\n",
       "    .dataframe tbody tr th:only-of-type {\n",
       "        vertical-align: middle;\n",
       "    }\n",
       "\n",
       "    .dataframe tbody tr th {\n",
       "        vertical-align: top;\n",
       "    }\n",
       "\n",
       "    .dataframe thead th {\n",
       "        text-align: right;\n",
       "    }\n",
       "</style>\n",
       "<table border=\"1\" class=\"dataframe\">\n",
       "  <thead>\n",
       "    <tr style=\"text-align: right;\">\n",
       "      <th></th>\n",
       "      <th>data</th>\n",
       "      <th>category</th>\n",
       "    </tr>\n",
       "  </thead>\n",
       "  <tbody>\n",
       "    <tr>\n",
       "      <th>580</th>\n",
       "      <td>The earliest evidence that games resembling fo...</td>\n",
       "      <td>sports</td>\n",
       "    </tr>\n",
       "    <tr>\n",
       "      <th>5191</th>\n",
       "      <td>In July 2010, the US Treasury Department adde...</td>\n",
       "      <td>terrorism</td>\n",
       "    </tr>\n",
       "    <tr>\n",
       "      <th>4712</th>\n",
       "      <td>Between 1918 and 1919 in the Shia holy city o...</td>\n",
       "      <td>terrorism</td>\n",
       "    </tr>\n",
       "    <tr>\n",
       "      <th>2576</th>\n",
       "      <td>When the representative is one man, then is t...</td>\n",
       "      <td>politics</td>\n",
       "    </tr>\n",
       "    <tr>\n",
       "      <th>4869</th>\n",
       "      <td>However, after the War on Terror, al-Qaeda's ...</td>\n",
       "      <td>terrorism</td>\n",
       "    </tr>\n",
       "    <tr>\n",
       "      <th>3835</th>\n",
       "      <td>Revolutionary taxes \"play a secondary role as...</td>\n",
       "      <td>terrorism</td>\n",
       "    </tr>\n",
       "    <tr>\n",
       "      <th>21</th>\n",
       "      <td>Roget's defines the noun sport as an \"activit...</td>\n",
       "      <td>sports</td>\n",
       "    </tr>\n",
       "    <tr>\n",
       "      <th>1846</th>\n",
       "      <td>Scholars such as Steven Weber, David Woodward...</td>\n",
       "      <td>politics</td>\n",
       "    </tr>\n",
       "    <tr>\n",
       "      <th>4330</th>\n",
       "      <td>\"Goetz writes that most homicides seem to star...</td>\n",
       "      <td>terrorism</td>\n",
       "    </tr>\n",
       "    <tr>\n",
       "      <th>4652</th>\n",
       "      <td>legitimated jihad against anyone who refused ...</td>\n",
       "      <td>terrorism</td>\n",
       "    </tr>\n",
       "  </tbody>\n",
       "</table>\n",
       "</div>"
      ],
      "text/plain": [
       "                                                   data   category\n",
       "580   The earliest evidence that games resembling fo...     sports\n",
       "5191   In July 2010, the US Treasury Department adde...  terrorism\n",
       "4712   Between 1918 and 1919 in the Shia holy city o...  terrorism\n",
       "2576   When the representative is one man, then is t...   politics\n",
       "4869   However, after the War on Terror, al-Qaeda's ...  terrorism\n",
       "3835   Revolutionary taxes \"play a secondary role as...  terrorism\n",
       "21     Roget's defines the noun sport as an \"activit...     sports\n",
       "1846   Scholars such as Steven Weber, David Woodward...   politics\n",
       "4330  \"Goetz writes that most homicides seem to star...  terrorism\n",
       "4652   legitimated jihad against anyone who refused ...  terrorism"
      ]
     },
     "execution_count": 5,
     "metadata": {},
     "output_type": "execute_result"
    }
   ],
   "source": [
    "df.head(10)"
   ]
  },
  {
   "cell_type": "code",
   "execution_count": 6,
   "metadata": {},
   "outputs": [
    {
     "name": "stdout",
     "output_type": "stream",
     "text": [
      "[1, 2, 3] ['politics' 'terrorism' 'sports'] terrorism    1837\n",
      "politics     1806\n",
      "sports       1773\n",
      "Name: category, dtype: int64\n"
     ]
    },
    {
     "data": {
      "image/png": "[encoded data removed]",
      "text/plain": [
       "<Figure size 432x288 with 1 Axes>"
      ]
     },
     "metadata": {
      "needs_background": "light"
     },
     "output_type": "display_data"
    }
   ],
   "source": [
    "topics = df['category'].unique()\n",
    "topics=topics[::-1]\n",
    "left = [1,2,3]\n",
    "vals = df['category'].value_counts()\n",
    "\n",
    "print(left,topics,vals)\n",
    "graph = plt.bar(left,vals,tick_label=topics,width=0.8,color=['red','green','blue'])\n",
    "i = 0\n",
    "for p in graph:\n",
    "    width = p.get_width()\n",
    "    height = p.get_height()\n",
    "    x, y = p.get_xy()\n",
    "    plt.text(x+width/2,\n",
    "             y+height*1.01,\n",
    "             str(vals[i]),\n",
    "             ha='center',\n",
    "             weight='bold')\n",
    "    i+=1"
   ]
  },
  {
   "cell_type": "code",
   "execution_count": 7,
   "metadata": {},
   "outputs": [
    {
     "data": {
      "text/plain": [
       "numpy.ndarray"
      ]
     },
     "execution_count": 7,
     "metadata": {},
     "output_type": "execute_result"
    }
   ],
   "source": [
    "type(topics)"
   ]
  },
  {
   "cell_type": "code",
   "execution_count": 8,
   "metadata": {},
   "outputs": [],
   "source": [
    "def clean_text(text): \n",
    "    text = text.lower() \n",
    "    text = \" \".join(filter(lambda x:x[0]!='@', text.split())) \n",
    "    text = re.sub(r\"[,.\\\"\\'!@#$%^&*(){}?/;`~:<>+=-]\", \"\", text)\n",
    "    return text"
   ]
  },
  {
   "cell_type": "code",
   "execution_count": 9,
   "metadata": {},
   "outputs": [],
   "source": [
    "new_text=[]\n",
    "for text in df['data']:  \n",
    "      new_text.append(clean_text(text))\n",
    "df['clean_text']=new_text"
   ]
  },
  {
   "cell_type": "code",
   "execution_count": 10,
   "metadata": {},
   "outputs": [
    {
     "data": {
      "text/html": [
       "<div>\n",
       "<style scoped>\n",
       "    .dataframe tbody tr th:only-of-type {\n",
       "        vertical-align: middle;\n",
       "    }\n",
       "\n",
       "    .dataframe tbody tr th {\n",
       "        vertical-align: top;\n",
       "    }\n",
       "\n",
       "    .dataframe thead th {\n",
       "        text-align: right;\n",
       "    }\n",
       "</style>\n",
       "<table border=\"1\" class=\"dataframe\">\n",
       "  <thead>\n",
       "    <tr style=\"text-align: right;\">\n",
       "      <th></th>\n",
       "      <th>data</th>\n",
       "      <th>category</th>\n",
       "      <th>clean_text</th>\n",
       "    </tr>\n",
       "  </thead>\n",
       "  <tbody>\n",
       "    <tr>\n",
       "      <th>580</th>\n",
       "      <td>The earliest evidence that games resembling fo...</td>\n",
       "      <td>sports</td>\n",
       "      <td>the earliest evidence that games resembling fo...</td>\n",
       "    </tr>\n",
       "    <tr>\n",
       "      <th>5191</th>\n",
       "      <td>In July 2010, the US Treasury Department adde...</td>\n",
       "      <td>terrorism</td>\n",
       "      <td>in july 2010 the us treasury department added ...</td>\n",
       "    </tr>\n",
       "    <tr>\n",
       "      <th>4712</th>\n",
       "      <td>Between 1918 and 1919 in the Shia holy city o...</td>\n",
       "      <td>terrorism</td>\n",
       "      <td>between 1918 and 1919 in the shia holy city of...</td>\n",
       "    </tr>\n",
       "    <tr>\n",
       "      <th>2576</th>\n",
       "      <td>When the representative is one man, then is t...</td>\n",
       "      <td>politics</td>\n",
       "      <td>when the representative is one man then is the...</td>\n",
       "    </tr>\n",
       "    <tr>\n",
       "      <th>4869</th>\n",
       "      <td>However, after the War on Terror, al-Qaeda's ...</td>\n",
       "      <td>terrorism</td>\n",
       "      <td>however after the war on terror alqaedas leade...</td>\n",
       "    </tr>\n",
       "    <tr>\n",
       "      <th>...</th>\n",
       "      <td>...</td>\n",
       "      <td>...</td>\n",
       "      <td>...</td>\n",
       "    </tr>\n",
       "    <tr>\n",
       "      <th>2521</th>\n",
       "      <td>King of Liberia was reported to have won by 2...</td>\n",
       "      <td>politics</td>\n",
       "      <td>king of liberia was reported to have won by 23...</td>\n",
       "    </tr>\n",
       "    <tr>\n",
       "      <th>4353</th>\n",
       "      <td>Not surprisingly, scientific evidence about th...</td>\n",
       "      <td>terrorism</td>\n",
       "      <td>not surprisingly scientific evidence about the...</td>\n",
       "    </tr>\n",
       "    <tr>\n",
       "      <th>3373</th>\n",
       "      <td>First of all, the absence of effective govern...</td>\n",
       "      <td>politics</td>\n",
       "      <td>first of all the absence of effective governan...</td>\n",
       "    </tr>\n",
       "    <tr>\n",
       "      <th>1119</th>\n",
       "      <td>In a man-to-man defense, each defensive playe...</td>\n",
       "      <td>sports</td>\n",
       "      <td>in a mantoman defense each defensive player gu...</td>\n",
       "    </tr>\n",
       "    <tr>\n",
       "      <th>2118</th>\n",
       "      <td>The English term is derived from Anglo-Norman ...</td>\n",
       "      <td>politics</td>\n",
       "      <td>the english term is derived from anglonorman a...</td>\n",
       "    </tr>\n",
       "  </tbody>\n",
       "</table>\n",
       "<p>5416 rows × 3 columns</p>\n",
       "</div>"
      ],
      "text/plain": [
       "                                                   data   category  \\\n",
       "580   The earliest evidence that games resembling fo...     sports   \n",
       "5191   In July 2010, the US Treasury Department adde...  terrorism   \n",
       "4712   Between 1918 and 1919 in the Shia holy city o...  terrorism   \n",
       "2576   When the representative is one man, then is t...   politics   \n",
       "4869   However, after the War on Terror, al-Qaeda's ...  terrorism   \n",
       "...                                                 ...        ...   \n",
       "2521   King of Liberia was reported to have won by 2...   politics   \n",
       "4353  Not surprisingly, scientific evidence about th...  terrorism   \n",
       "3373   First of all, the absence of effective govern...   politics   \n",
       "1119   In a man-to-man defense, each defensive playe...     sports   \n",
       "2118  The English term is derived from Anglo-Norman ...   politics   \n",
       "\n",
       "                                             clean_text  \n",
       "580   the earliest evidence that games resembling fo...  \n",
       "5191  in july 2010 the us treasury department added ...  \n",
       "4712  between 1918 and 1919 in the shia holy city of...  \n",
       "2576  when the representative is one man then is the...  \n",
       "4869  however after the war on terror alqaedas leade...  \n",
       "...                                                 ...  \n",
       "2521  king of liberia was reported to have won by 23...  \n",
       "4353  not surprisingly scientific evidence about the...  \n",
       "3373  first of all the absence of effective governan...  \n",
       "1119  in a mantoman defense each defensive player gu...  \n",
       "2118  the english term is derived from anglonorman a...  \n",
       "\n",
       "[5416 rows x 3 columns]"
      ]
     },
     "execution_count": 10,
     "metadata": {},
     "output_type": "execute_result"
    }
   ],
   "source": [
    "df"
   ]
  },
  {
   "cell_type": "code",
   "execution_count": 11,
   "metadata": {},
   "outputs": [
    {
     "name": "stderr",
     "output_type": "stream",
     "text": [
      "c:\\users\\asus\\appdata\\local\\programs\\python\\python37\\lib\\site-packages\\ipykernel_launcher.py:1: FutureWarning: The default value of regex will change from True to False in a future version.\n",
      "  \"\"\"Entry point for launching an IPython kernel.\n"
     ]
    }
   ],
   "source": [
    "df['tidy_tweet']=df['clean_text'].str.replace(\"[^a-zA-Z#]\",\" \")"
   ]
  },
  {
   "cell_type": "code",
   "execution_count": 12,
   "metadata": {},
   "outputs": [],
   "source": [
    "df['tidy_tweet']=df['tidy_tweet'].apply(lambda x: ' '.join([w for w in x.split() if len(w)>3]))"
   ]
  },
  {
   "cell_type": "code",
   "execution_count": 13,
   "metadata": {},
   "outputs": [],
   "source": [
    "df.drop('clean_text',axis=1,inplace=True)"
   ]
  },
  {
   "cell_type": "code",
   "execution_count": 14,
   "metadata": {},
   "outputs": [
    {
     "data": {
      "text/html": [
       "<div>\n",
       "<style scoped>\n",
       "    .dataframe tbody tr th:only-of-type {\n",
       "        vertical-align: middle;\n",
       "    }\n",
       "\n",
       "    .dataframe tbody tr th {\n",
       "        vertical-align: top;\n",
       "    }\n",
       "\n",
       "    .dataframe thead th {\n",
       "        text-align: right;\n",
       "    }\n",
       "</style>\n",
       "<table border=\"1\" class=\"dataframe\">\n",
       "  <thead>\n",
       "    <tr style=\"text-align: right;\">\n",
       "      <th></th>\n",
       "      <th>data</th>\n",
       "      <th>category</th>\n",
       "      <th>tidy_tweet</th>\n",
       "    </tr>\n",
       "  </thead>\n",
       "  <tbody>\n",
       "    <tr>\n",
       "      <th>580</th>\n",
       "      <td>The earliest evidence that games resembling fo...</td>\n",
       "      <td>sports</td>\n",
       "      <td>earliest evidence that games resembling footba...</td>\n",
       "    </tr>\n",
       "    <tr>\n",
       "      <th>5191</th>\n",
       "      <td>In July 2010, the US Treasury Department adde...</td>\n",
       "      <td>terrorism</td>\n",
       "      <td>july treasury department added list specially ...</td>\n",
       "    </tr>\n",
       "    <tr>\n",
       "      <th>4712</th>\n",
       "      <td>Between 1918 and 1919 in the Shia holy city o...</td>\n",
       "      <td>terrorism</td>\n",
       "      <td>between shia holy city najaf league islamic aw...</td>\n",
       "    </tr>\n",
       "    <tr>\n",
       "      <th>2576</th>\n",
       "      <td>When the representative is one man, then is t...</td>\n",
       "      <td>politics</td>\n",
       "      <td>when representative then commonwealth monarchy...</td>\n",
       "    </tr>\n",
       "    <tr>\n",
       "      <th>4869</th>\n",
       "      <td>However, after the War on Terror, al-Qaeda's ...</td>\n",
       "      <td>terrorism</td>\n",
       "      <td>however after terror alqaedas leadership becom...</td>\n",
       "    </tr>\n",
       "    <tr>\n",
       "      <th>3835</th>\n",
       "      <td>Revolutionary taxes \"play a secondary role as...</td>\n",
       "      <td>terrorism</td>\n",
       "      <td>revolutionary taxes play secondary role other ...</td>\n",
       "    </tr>\n",
       "    <tr>\n",
       "      <th>21</th>\n",
       "      <td>Roget's defines the noun sport as an \"activit...</td>\n",
       "      <td>sports</td>\n",
       "      <td>rogets defines noun sport activity engaged rel...</td>\n",
       "    </tr>\n",
       "    <tr>\n",
       "      <th>1846</th>\n",
       "      <td>Scholars such as Steven Weber, David Woodward...</td>\n",
       "      <td>politics</td>\n",
       "      <td>scholars such steven weber david woodward mich...</td>\n",
       "    </tr>\n",
       "    <tr>\n",
       "      <th>4330</th>\n",
       "      <td>\"Goetz writes that most homicides seem to star...</td>\n",
       "      <td>terrorism</td>\n",
       "      <td>goetz writes that most homicides seem start fr...</td>\n",
       "    </tr>\n",
       "    <tr>\n",
       "      <th>4652</th>\n",
       "      <td>legitimated jihad against anyone who refused ...</td>\n",
       "      <td>terrorism</td>\n",
       "      <td>legitimated jihad against anyone refused abide...</td>\n",
       "    </tr>\n",
       "  </tbody>\n",
       "</table>\n",
       "</div>"
      ],
      "text/plain": [
       "                                                   data   category  \\\n",
       "580   The earliest evidence that games resembling fo...     sports   \n",
       "5191   In July 2010, the US Treasury Department adde...  terrorism   \n",
       "4712   Between 1918 and 1919 in the Shia holy city o...  terrorism   \n",
       "2576   When the representative is one man, then is t...   politics   \n",
       "4869   However, after the War on Terror, al-Qaeda's ...  terrorism   \n",
       "3835   Revolutionary taxes \"play a secondary role as...  terrorism   \n",
       "21     Roget's defines the noun sport as an \"activit...     sports   \n",
       "1846   Scholars such as Steven Weber, David Woodward...   politics   \n",
       "4330  \"Goetz writes that most homicides seem to star...  terrorism   \n",
       "4652   legitimated jihad against anyone who refused ...  terrorism   \n",
       "\n",
       "                                             tidy_tweet  \n",
       "580   earliest evidence that games resembling footba...  \n",
       "5191  july treasury department added list specially ...  \n",
       "4712  between shia holy city najaf league islamic aw...  \n",
       "2576  when representative then commonwealth monarchy...  \n",
       "4869  however after terror alqaedas leadership becom...  \n",
       "3835  revolutionary taxes play secondary role other ...  \n",
       "21    rogets defines noun sport activity engaged rel...  \n",
       "1846  scholars such steven weber david woodward mich...  \n",
       "4330  goetz writes that most homicides seem start fr...  \n",
       "4652  legitimated jihad against anyone refused abide...  "
      ]
     },
     "execution_count": 14,
     "metadata": {},
     "output_type": "execute_result"
    }
   ],
   "source": [
    "df.head(10)"
   ]
  },
  {
   "cell_type": "code",
   "execution_count": 15,
   "metadata": {},
   "outputs": [
    {
     "data": {
      "text/html": [
       "<div>\n",
       "<style scoped>\n",
       "    .dataframe tbody tr th:only-of-type {\n",
       "        vertical-align: middle;\n",
       "    }\n",
       "\n",
       "    .dataframe tbody tr th {\n",
       "        vertical-align: top;\n",
       "    }\n",
       "\n",
       "    .dataframe thead th {\n",
       "        text-align: right;\n",
       "    }\n",
       "</style>\n",
       "<table border=\"1\" class=\"dataframe\">\n",
       "  <thead>\n",
       "    <tr style=\"text-align: right;\">\n",
       "      <th></th>\n",
       "      <th>data</th>\n",
       "      <th>category</th>\n",
       "      <th>tidy_tweet</th>\n",
       "    </tr>\n",
       "  </thead>\n",
       "  <tbody>\n",
       "    <tr>\n",
       "      <th>5191</th>\n",
       "      <td>In July 2010, the US Treasury Department adde...</td>\n",
       "      <td>terrorism</td>\n",
       "      <td>july treasury department added list specially ...</td>\n",
       "    </tr>\n",
       "    <tr>\n",
       "      <th>4712</th>\n",
       "      <td>Between 1918 and 1919 in the Shia holy city o...</td>\n",
       "      <td>terrorism</td>\n",
       "      <td>between shia holy city najaf league islamic aw...</td>\n",
       "    </tr>\n",
       "  </tbody>\n",
       "</table>\n",
       "</div>"
      ],
      "text/plain": [
       "                                                   data   category  \\\n",
       "5191   In July 2010, the US Treasury Department adde...  terrorism   \n",
       "4712   Between 1918 and 1919 in the Shia holy city o...  terrorism   \n",
       "\n",
       "                                             tidy_tweet  \n",
       "5191  july treasury department added list specially ...  \n",
       "4712  between shia holy city najaf league islamic aw...  "
      ]
     },
     "execution_count": 15,
     "metadata": {},
     "output_type": "execute_result"
    }
   ],
   "source": [
    "df[1:3]"
   ]
  },
  {
   "cell_type": "code",
   "execution_count": 16,
   "metadata": {},
   "outputs": [
    {
     "data": {
      "text/plain": [
       "'plays farces spectacles gladiators strange beasts medals pictures other such opiates these were ancient peoples bait toward slavery price their liberty instruments tyranny'"
      ]
     },
     "execution_count": 16,
     "metadata": {},
     "output_type": "execute_result"
    }
   ],
   "source": [
    "df['tidy_tweet'][137]"
   ]
  },
  {
   "cell_type": "code",
   "execution_count": 17,
   "metadata": {},
   "outputs": [
    {
     "name": "stdout",
     "output_type": "stream",
     "text": [
      "<class 'pandas.core.frame.DataFrame'>\n",
      "Int64Index: 5416 entries, 580 to 2118\n",
      "Data columns (total 3 columns):\n",
      " #   Column      Non-Null Count  Dtype \n",
      "---  ------      --------------  ----- \n",
      " 0   data        5416 non-null   object\n",
      " 1   category    5416 non-null   object\n",
      " 2   tidy_tweet  5416 non-null   object\n",
      "dtypes: object(3)\n",
      "memory usage: 298.3+ KB\n"
     ]
    }
   ],
   "source": [
    "df.info()"
   ]
  },
  {
   "cell_type": "code",
   "execution_count": 18,
   "metadata": {},
   "outputs": [
    {
     "data": {
      "text/plain": [
       "data          0\n",
       "category      0\n",
       "tidy_tweet    0\n",
       "dtype: int64"
      ]
     },
     "execution_count": 18,
     "metadata": {},
     "output_type": "execute_result"
    }
   ],
   "source": [
    "df.isnull().sum()"
   ]
  },
  {
   "cell_type": "code",
   "execution_count": 19,
   "metadata": {},
   "outputs": [],
   "source": [
    "df.dropna(inplace=True)"
   ]
  },
  {
   "cell_type": "code",
   "execution_count": 20,
   "metadata": {},
   "outputs": [
    {
     "data": {
      "text/plain": [
       "[]"
      ]
     },
     "execution_count": 20,
     "metadata": {},
     "output_type": "execute_result"
    }
   ],
   "source": [
    "blancks = []\n",
    "for i,qn,y,b in df.itertuples():\n",
    "    if type(b) == str:\n",
    "        if b.isspace() or b=='':\n",
    "            blancks.append(i)\n",
    "blancks"
   ]
  },
  {
   "cell_type": "code",
   "execution_count": 21,
   "metadata": {},
   "outputs": [],
   "source": [
    "df.drop(blancks,inplace=True)"
   ]
  },
  {
   "cell_type": "code",
   "execution_count": 22,
   "metadata": {},
   "outputs": [
    {
     "name": "stdout",
     "output_type": "stream",
     "text": [
      "<class 'pandas.core.frame.DataFrame'>\n",
      "Int64Index: 5416 entries, 580 to 2118\n",
      "Data columns (total 3 columns):\n",
      " #   Column      Non-Null Count  Dtype \n",
      "---  ------      --------------  ----- \n",
      " 0   data        5416 non-null   object\n",
      " 1   category    5416 non-null   object\n",
      " 2   tidy_tweet  5416 non-null   object\n",
      "dtypes: object(3)\n",
      "memory usage: 298.3+ KB\n"
     ]
    }
   ],
   "source": [
    "df.info()"
   ]
  },
  {
   "cell_type": "code",
   "execution_count": 23,
   "metadata": {},
   "outputs": [],
   "source": [
    "from sklearn.feature_extraction.text import TfidfVectorizer\n",
    "tfidf = TfidfVectorizer(max_df=0.9,min_df=2,stop_words='english')"
   ]
  },
  {
   "cell_type": "code",
   "execution_count": 24,
   "metadata": {},
   "outputs": [],
   "source": [
    "dtm = tfidf.fit_transform(df['tidy_tweet'])"
   ]
  },
  {
   "cell_type": "code",
   "execution_count": 25,
   "metadata": {},
   "outputs": [
    {
     "data": {
      "text/plain": [
       "<5416x6094 sparse matrix of type '<class 'numpy.float64'>'\n",
       "\twith 54760 stored elements in Compressed Sparse Row format>"
      ]
     },
     "execution_count": 25,
     "metadata": {},
     "output_type": "execute_result"
    }
   ],
   "source": [
    "dtm"
   ]
  },
  {
   "cell_type": "code",
   "execution_count": 26,
   "metadata": {},
   "outputs": [],
   "source": [
    "from sklearn.decomposition import NMF"
   ]
  },
  {
   "cell_type": "code",
   "execution_count": 27,
   "metadata": {},
   "outputs": [],
   "source": [
    "nmf_model = NMF(n_components=3,random_state=42)"
   ]
  },
  {
   "cell_type": "code",
   "execution_count": 28,
   "metadata": {},
   "outputs": [
    {
     "name": "stderr",
     "output_type": "stream",
     "text": [
      "c:\\users\\asus\\appdata\\local\\programs\\python\\python37\\lib\\site-packages\\sklearn\\decomposition\\_nmf.py:315: FutureWarning: The 'init' value, when 'init=None' and n_components is less than n_samples and n_features, will be changed from 'nndsvd' to 'nndsvda' in 1.1 (renaming of 0.26).\n",
      "  \"'nndsvda' in 1.1 (renaming of 0.26).\"), FutureWarning)\n"
     ]
    },
    {
     "data": {
      "text/plain": [
       "NMF(n_components=3, random_state=42)"
      ]
     },
     "execution_count": 28,
     "metadata": {},
     "output_type": "execute_result"
    }
   ],
   "source": [
    "nmf_model.fit(dtm)"
   ]
  },
  {
   "cell_type": "code",
   "execution_count": 29,
   "metadata": {},
   "outputs": [
    {
     "name": "stdout",
     "output_type": "stream",
     "text": [
      "The words of NMF of high frequency of 0 is\n",
      "['american', 'international', 'england', 'popular', 'league', 'australian', 'teams', 'sports', 'play', 'cricket', 'century', 'sport', 'known', 'basketball', 'association', 'team', 'hockey', 'rugby', 'players', 'rules', 'games', 'ball', 'played', 'game', 'football']\n",
      "\n",
      "\n",
      "The words of NMF of high frequency of 1 is\n",
      "['cabinet', 'term', 'house', 'union', 'office', 'power', 'constitution', 'parliamentary', 'ministers', 'executive', 'republics', 'india', 'title', 'elected', 'council', 'parliament', 'state', 'republic', 'united', 'head', 'minister', 'prime', 'government', 'states', 'president']\n",
      "\n",
      "\n",
      "The words of NMF of high frequency of 2 is\n",
      "['forms', 'military', 'term', 'group', 'attacks', 'according', 'terrorist', 'politics', 'international', 'policy', 'people', 'used', 'islamic', 'health', 'groups', 'social', 'public', 'world', 'state', 'governance', 'alqaeda', 'terrorism', 'jihad', 'political', 'violence']\n",
      "\n",
      "\n"
     ]
    }
   ],
   "source": [
    "for i, arr in enumerate(nmf_model.components_):\n",
    "    print(f\"The words of NMF of high frequency of {i} is\")\n",
    "    print([tfidf.get_feature_names()[i] for i in arr.argsort()[-25:]])\n",
    "    print('\\n')"
   ]
  },
  {
   "cell_type": "code",
   "execution_count": 30,
   "metadata": {},
   "outputs": [],
   "source": [
    "topic_sel = nmf_model.transform(dtm)"
   ]
  },
  {
   "cell_type": "code",
   "execution_count": 31,
   "metadata": {},
   "outputs": [
    {
     "data": {
      "text/plain": [
       "array([[0.07794543, 0.        , 0.00836022],\n",
       "       [0.        , 0.        , 0.03932841],\n",
       "       [0.00745466, 0.00264984, 0.02616706],\n",
       "       ...,\n",
       "       [0.        , 0.01102842, 0.0783093 ],\n",
       "       [0.01017232, 0.        , 0.00661249],\n",
       "       [0.01745516, 0.0164335 , 0.01585219]])"
      ]
     },
     "execution_count": 31,
     "metadata": {},
     "output_type": "execute_result"
    }
   ],
   "source": [
    "topic_sel\n"
   ]
  },
  {
   "cell_type": "code",
   "execution_count": 32,
   "metadata": {},
   "outputs": [],
   "source": [
    "g_df = []\n",
    "for j in range(0,3):\n",
    "    op= []\n",
    "    for i,data,cat,tt in df.itertuples():\n",
    "        if(topic_sel[i].argmax()==j):\n",
    "            op.append(topic_sel[i].max())\n",
    "    g_df.append(op)\n",
    "# g_df[0]\n",
    "# g_df"
   ]
  },
  {
   "cell_type": "code",
   "execution_count": null,
   "metadata": {},
   "outputs": [],
   "source": []
  },
  {
   "cell_type": "code",
   "execution_count": 33,
   "metadata": {},
   "outputs": [
    {
     "data": {
      "image/png": "[encoded data removed]",
      "text/plain": [
       "<Figure size 432x288 with 1 Axes>"
      ]
     },
     "metadata": {
      "needs_background": "light"
     },
     "output_type": "display_data"
    }
   ],
   "source": [
    "x =range(0,len(g_df[0]))\n",
    "y = g_df[0]\n",
    "plt.scatter(x,y)\n",
    "plt.show()"
   ]
  },
  {
   "cell_type": "code",
   "execution_count": 34,
   "metadata": {},
   "outputs": [
    {
     "data": {
      "image/png": "[encoded data removed]",
      "text/plain": [
       "<Figure size 432x288 with 1 Axes>"
      ]
     },
     "metadata": {
      "needs_background": "light"
     },
     "output_type": "display_data"
    }
   ],
   "source": [
    "x =range(0,len(g_df[1]))\n",
    "y = g_df[1]\n",
    "plt.scatter(x,y)\n",
    "plt.show()"
   ]
  },
  {
   "cell_type": "code",
   "execution_count": 35,
   "metadata": {},
   "outputs": [
    {
     "data": {
      "image/png": "[encoded data removed]",
      "text/plain": [
       "<Figure size 432x288 with 1 Axes>"
      ]
     },
     "metadata": {
      "needs_background": "light"
     },
     "output_type": "display_data"
    }
   ],
   "source": [
    "x =range(0,len(g_df[2]))\n",
    "y = g_df[2]\n",
    "plt.scatter(x,y)\n",
    "plt.show()"
   ]
  },
  {
   "cell_type": "code",
   "execution_count": 36,
   "metadata": {},
   "outputs": [
    {
     "data": {
      "text/html": [
       "<div>\n",
       "<style scoped>\n",
       "    .dataframe tbody tr th:only-of-type {\n",
       "        vertical-align: middle;\n",
       "    }\n",
       "\n",
       "    .dataframe tbody tr th {\n",
       "        vertical-align: top;\n",
       "    }\n",
       "\n",
       "    .dataframe thead th {\n",
       "        text-align: right;\n",
       "    }\n",
       "</style>\n",
       "<table border=\"1\" class=\"dataframe\">\n",
       "  <thead>\n",
       "    <tr style=\"text-align: right;\">\n",
       "      <th></th>\n",
       "      <th>data</th>\n",
       "      <th>category</th>\n",
       "      <th>tidy_tweet</th>\n",
       "    </tr>\n",
       "  </thead>\n",
       "  <tbody>\n",
       "    <tr>\n",
       "      <th>3756</th>\n",
       "      <td>The majority of incidents over the past sever...</td>\n",
       "      <td>terrorism</td>\n",
       "      <td>majority incidents over past several years tie...</td>\n",
       "    </tr>\n",
       "    <tr>\n",
       "      <th>1100</th>\n",
       "      <td>(Some scoreboards also indicate the number of...</td>\n",
       "      <td>sports</td>\n",
       "      <td>some scoreboards also indicate number fouls co...</td>\n",
       "    </tr>\n",
       "    <tr>\n",
       "      <th>294</th>\n",
       "      <td>There is no standard for the weight, which is...</td>\n",
       "      <td>sports</td>\n",
       "      <td>there standard weight which usually between</td>\n",
       "    </tr>\n",
       "    <tr>\n",
       "      <th>2610</th>\n",
       "      <td>President\" and Madam President may apply to a...</td>\n",
       "      <td>politics</td>\n",
       "      <td>president madam president apply person holding...</td>\n",
       "    </tr>\n",
       "  </tbody>\n",
       "</table>\n",
       "</div>"
      ],
      "text/plain": [
       "                                                   data   category  \\\n",
       "3756   The majority of incidents over the past sever...  terrorism   \n",
       "1100   (Some scoreboards also indicate the number of...     sports   \n",
       "294    There is no standard for the weight, which is...     sports   \n",
       "2610   President\" and Madam President may apply to a...   politics   \n",
       "\n",
       "                                             tidy_tweet  \n",
       "3756  majority incidents over past several years tie...  \n",
       "1100  some scoreboards also indicate number fouls co...  \n",
       "294         there standard weight which usually between  \n",
       "2610  president madam president apply person holding...  "
      ]
     },
     "execution_count": 36,
     "metadata": {},
     "output_type": "execute_result"
    }
   ],
   "source": [
    "df[3938:3942]"
   ]
  },
  {
   "cell_type": "code",
   "execution_count": 37,
   "metadata": {},
   "outputs": [],
   "source": [
    "vals={0:'sports',1:'politics',2:'terrorism'}"
   ]
  },
  {
   "cell_type": "code",
   "execution_count": 38,
   "metadata": {},
   "outputs": [],
   "source": [
    "df['topic']=topic_sel.argmax(axis=1)"
   ]
  },
  {
   "cell_type": "code",
   "execution_count": 39,
   "metadata": {},
   "outputs": [
    {
     "data": {
      "text/html": [
       "<div>\n",
       "<style scoped>\n",
       "    .dataframe tbody tr th:only-of-type {\n",
       "        vertical-align: middle;\n",
       "    }\n",
       "\n",
       "    .dataframe tbody tr th {\n",
       "        vertical-align: top;\n",
       "    }\n",
       "\n",
       "    .dataframe thead th {\n",
       "        text-align: right;\n",
       "    }\n",
       "</style>\n",
       "<table border=\"1\" class=\"dataframe\">\n",
       "  <thead>\n",
       "    <tr style=\"text-align: right;\">\n",
       "      <th></th>\n",
       "      <th>data</th>\n",
       "      <th>category</th>\n",
       "      <th>tidy_tweet</th>\n",
       "      <th>topic</th>\n",
       "    </tr>\n",
       "  </thead>\n",
       "  <tbody>\n",
       "    <tr>\n",
       "      <th>580</th>\n",
       "      <td>The earliest evidence that games resembling fo...</td>\n",
       "      <td>sports</td>\n",
       "      <td>earliest evidence that games resembling footba...</td>\n",
       "      <td>0</td>\n",
       "    </tr>\n",
       "    <tr>\n",
       "      <th>5191</th>\n",
       "      <td>In July 2010, the US Treasury Department adde...</td>\n",
       "      <td>terrorism</td>\n",
       "      <td>july treasury department added list specially ...</td>\n",
       "      <td>2</td>\n",
       "    </tr>\n",
       "    <tr>\n",
       "      <th>4712</th>\n",
       "      <td>Between 1918 and 1919 in the Shia holy city o...</td>\n",
       "      <td>terrorism</td>\n",
       "      <td>between shia holy city najaf league islamic aw...</td>\n",
       "      <td>2</td>\n",
       "    </tr>\n",
       "    <tr>\n",
       "      <th>2576</th>\n",
       "      <td>When the representative is one man, then is t...</td>\n",
       "      <td>politics</td>\n",
       "      <td>when representative then commonwealth monarchy...</td>\n",
       "      <td>1</td>\n",
       "    </tr>\n",
       "    <tr>\n",
       "      <th>4869</th>\n",
       "      <td>However, after the War on Terror, al-Qaeda's ...</td>\n",
       "      <td>terrorism</td>\n",
       "      <td>however after terror alqaedas leadership becom...</td>\n",
       "      <td>2</td>\n",
       "    </tr>\n",
       "  </tbody>\n",
       "</table>\n",
       "</div>"
      ],
      "text/plain": [
       "                                                   data   category  \\\n",
       "580   The earliest evidence that games resembling fo...     sports   \n",
       "5191   In July 2010, the US Treasury Department adde...  terrorism   \n",
       "4712   Between 1918 and 1919 in the Shia holy city o...  terrorism   \n",
       "2576   When the representative is one man, then is t...   politics   \n",
       "4869   However, after the War on Terror, al-Qaeda's ...  terrorism   \n",
       "\n",
       "                                             tidy_tweet  topic  \n",
       "580   earliest evidence that games resembling footba...      0  \n",
       "5191  july treasury department added list specially ...      2  \n",
       "4712  between shia holy city najaf league islamic aw...      2  \n",
       "2576  when representative then commonwealth monarchy...      1  \n",
       "4869  however after terror alqaedas leadership becom...      2  "
      ]
     },
     "execution_count": 39,
     "metadata": {},
     "output_type": "execute_result"
    }
   ],
   "source": [
    "df.head()"
   ]
  },
  {
   "cell_type": "code",
   "execution_count": 40,
   "metadata": {},
   "outputs": [],
   "source": [
    "df['category_decided']=df['topic'].map(vals)"
   ]
  },
  {
   "cell_type": "code",
   "execution_count": 41,
   "metadata": {},
   "outputs": [
    {
     "data": {
      "text/plain": [
       "(5416, 5)"
      ]
     },
     "execution_count": 41,
     "metadata": {},
     "output_type": "execute_result"
    }
   ],
   "source": [
    "df.shape"
   ]
  },
  {
   "cell_type": "code",
   "execution_count": 42,
   "metadata": {},
   "outputs": [
    {
     "data": {
      "text/plain": [
       "(5416, 5)"
      ]
     },
     "execution_count": 42,
     "metadata": {},
     "output_type": "execute_result"
    }
   ],
   "source": [
    "df.shape"
   ]
  },
  {
   "cell_type": "code",
   "execution_count": 43,
   "metadata": {},
   "outputs": [
    {
     "data": {
      "text/html": [
       "<div>\n",
       "<style scoped>\n",
       "    .dataframe tbody tr th:only-of-type {\n",
       "        vertical-align: middle;\n",
       "    }\n",
       "\n",
       "    .dataframe tbody tr th {\n",
       "        vertical-align: top;\n",
       "    }\n",
       "\n",
       "    .dataframe thead th {\n",
       "        text-align: right;\n",
       "    }\n",
       "</style>\n",
       "<table border=\"1\" class=\"dataframe\">\n",
       "  <thead>\n",
       "    <tr style=\"text-align: right;\">\n",
       "      <th></th>\n",
       "      <th>data</th>\n",
       "      <th>category</th>\n",
       "      <th>tidy_tweet</th>\n",
       "      <th>topic</th>\n",
       "      <th>category_decided</th>\n",
       "    </tr>\n",
       "  </thead>\n",
       "  <tbody>\n",
       "    <tr>\n",
       "      <th>580</th>\n",
       "      <td>The earliest evidence that games resembling fo...</td>\n",
       "      <td>sports</td>\n",
       "      <td>earliest evidence that games resembling footba...</td>\n",
       "      <td>0</td>\n",
       "      <td>sports</td>\n",
       "    </tr>\n",
       "    <tr>\n",
       "      <th>5191</th>\n",
       "      <td>In July 2010, the US Treasury Department adde...</td>\n",
       "      <td>terrorism</td>\n",
       "      <td>july treasury department added list specially ...</td>\n",
       "      <td>2</td>\n",
       "      <td>terrorism</td>\n",
       "    </tr>\n",
       "    <tr>\n",
       "      <th>4712</th>\n",
       "      <td>Between 1918 and 1919 in the Shia holy city o...</td>\n",
       "      <td>terrorism</td>\n",
       "      <td>between shia holy city najaf league islamic aw...</td>\n",
       "      <td>2</td>\n",
       "      <td>terrorism</td>\n",
       "    </tr>\n",
       "    <tr>\n",
       "      <th>2576</th>\n",
       "      <td>When the representative is one man, then is t...</td>\n",
       "      <td>politics</td>\n",
       "      <td>when representative then commonwealth monarchy...</td>\n",
       "      <td>1</td>\n",
       "      <td>politics</td>\n",
       "    </tr>\n",
       "    <tr>\n",
       "      <th>4869</th>\n",
       "      <td>However, after the War on Terror, al-Qaeda's ...</td>\n",
       "      <td>terrorism</td>\n",
       "      <td>however after terror alqaedas leadership becom...</td>\n",
       "      <td>2</td>\n",
       "      <td>terrorism</td>\n",
       "    </tr>\n",
       "    <tr>\n",
       "      <th>...</th>\n",
       "      <td>...</td>\n",
       "      <td>...</td>\n",
       "      <td>...</td>\n",
       "      <td>...</td>\n",
       "      <td>...</td>\n",
       "    </tr>\n",
       "    <tr>\n",
       "      <th>2521</th>\n",
       "      <td>King of Liberia was reported to have won by 2...</td>\n",
       "      <td>politics</td>\n",
       "      <td>king liberia reported have votes general elect...</td>\n",
       "      <td>1</td>\n",
       "      <td>politics</td>\n",
       "    </tr>\n",
       "    <tr>\n",
       "      <th>4353</th>\n",
       "      <td>Not surprisingly, scientific evidence about th...</td>\n",
       "      <td>terrorism</td>\n",
       "      <td>surprisingly scientific evidence about effecti...</td>\n",
       "      <td>2</td>\n",
       "      <td>terrorism</td>\n",
       "    </tr>\n",
       "    <tr>\n",
       "      <th>3373</th>\n",
       "      <td>First of all, the absence of effective govern...</td>\n",
       "      <td>politics</td>\n",
       "      <td>first absence effective governance lack capaci...</td>\n",
       "      <td>2</td>\n",
       "      <td>terrorism</td>\n",
       "    </tr>\n",
       "    <tr>\n",
       "      <th>1119</th>\n",
       "      <td>In a man-to-man defense, each defensive playe...</td>\n",
       "      <td>sports</td>\n",
       "      <td>mantoman defense each defensive player guards ...</td>\n",
       "      <td>0</td>\n",
       "      <td>sports</td>\n",
       "    </tr>\n",
       "    <tr>\n",
       "      <th>2118</th>\n",
       "      <td>The English term is derived from Anglo-Norman ...</td>\n",
       "      <td>politics</td>\n",
       "      <td>english term derived from anglonorman dates ce...</td>\n",
       "      <td>0</td>\n",
       "      <td>sports</td>\n",
       "    </tr>\n",
       "  </tbody>\n",
       "</table>\n",
       "<p>5416 rows × 5 columns</p>\n",
       "</div>"
      ],
      "text/plain": [
       "                                                   data   category  \\\n",
       "580   The earliest evidence that games resembling fo...     sports   \n",
       "5191   In July 2010, the US Treasury Department adde...  terrorism   \n",
       "4712   Between 1918 and 1919 in the Shia holy city o...  terrorism   \n",
       "2576   When the representative is one man, then is t...   politics   \n",
       "4869   However, after the War on Terror, al-Qaeda's ...  terrorism   \n",
       "...                                                 ...        ...   \n",
       "2521   King of Liberia was reported to have won by 2...   politics   \n",
       "4353  Not surprisingly, scientific evidence about th...  terrorism   \n",
       "3373   First of all, the absence of effective govern...   politics   \n",
       "1119   In a man-to-man defense, each defensive playe...     sports   \n",
       "2118  The English term is derived from Anglo-Norman ...   politics   \n",
       "\n",
       "                                             tidy_tweet  topic  \\\n",
       "580   earliest evidence that games resembling footba...      0   \n",
       "5191  july treasury department added list specially ...      2   \n",
       "4712  between shia holy city najaf league islamic aw...      2   \n",
       "2576  when representative then commonwealth monarchy...      1   \n",
       "4869  however after terror alqaedas leadership becom...      2   \n",
       "...                                                 ...    ...   \n",
       "2521  king liberia reported have votes general elect...      1   \n",
       "4353  surprisingly scientific evidence about effecti...      2   \n",
       "3373  first absence effective governance lack capaci...      2   \n",
       "1119  mantoman defense each defensive player guards ...      0   \n",
       "2118  english term derived from anglonorman dates ce...      0   \n",
       "\n",
       "     category_decided  \n",
       "580            sports  \n",
       "5191        terrorism  \n",
       "4712        terrorism  \n",
       "2576         politics  \n",
       "4869        terrorism  \n",
       "...               ...  \n",
       "2521         politics  \n",
       "4353        terrorism  \n",
       "3373        terrorism  \n",
       "1119           sports  \n",
       "2118           sports  \n",
       "\n",
       "[5416 rows x 5 columns]"
      ]
     },
     "execution_count": 43,
     "metadata": {},
     "output_type": "execute_result"
    }
   ],
   "source": [
    "df"
   ]
  },
  {
   "cell_type": "code",
   "execution_count": 44,
   "metadata": {},
   "outputs": [],
   "source": [
    "df.drop('topic',axis=1,inplace=True)"
   ]
  },
  {
   "cell_type": "code",
   "execution_count": 45,
   "metadata": {},
   "outputs": [
    {
     "data": {
      "text/html": [
       "<div>\n",
       "<style scoped>\n",
       "    .dataframe tbody tr th:only-of-type {\n",
       "        vertical-align: middle;\n",
       "    }\n",
       "\n",
       "    .dataframe tbody tr th {\n",
       "        vertical-align: top;\n",
       "    }\n",
       "\n",
       "    .dataframe thead th {\n",
       "        text-align: right;\n",
       "    }\n",
       "</style>\n",
       "<table border=\"1\" class=\"dataframe\">\n",
       "  <thead>\n",
       "    <tr style=\"text-align: right;\">\n",
       "      <th></th>\n",
       "      <th>data</th>\n",
       "      <th>category</th>\n",
       "      <th>tidy_tweet</th>\n",
       "      <th>category_decided</th>\n",
       "    </tr>\n",
       "  </thead>\n",
       "  <tbody>\n",
       "    <tr>\n",
       "      <th>580</th>\n",
       "      <td>The earliest evidence that games resembling fo...</td>\n",
       "      <td>sports</td>\n",
       "      <td>earliest evidence that games resembling footba...</td>\n",
       "      <td>sports</td>\n",
       "    </tr>\n",
       "    <tr>\n",
       "      <th>5191</th>\n",
       "      <td>In July 2010, the US Treasury Department adde...</td>\n",
       "      <td>terrorism</td>\n",
       "      <td>july treasury department added list specially ...</td>\n",
       "      <td>terrorism</td>\n",
       "    </tr>\n",
       "    <tr>\n",
       "      <th>4712</th>\n",
       "      <td>Between 1918 and 1919 in the Shia holy city o...</td>\n",
       "      <td>terrorism</td>\n",
       "      <td>between shia holy city najaf league islamic aw...</td>\n",
       "      <td>terrorism</td>\n",
       "    </tr>\n",
       "    <tr>\n",
       "      <th>2576</th>\n",
       "      <td>When the representative is one man, then is t...</td>\n",
       "      <td>politics</td>\n",
       "      <td>when representative then commonwealth monarchy...</td>\n",
       "      <td>politics</td>\n",
       "    </tr>\n",
       "    <tr>\n",
       "      <th>4869</th>\n",
       "      <td>However, after the War on Terror, al-Qaeda's ...</td>\n",
       "      <td>terrorism</td>\n",
       "      <td>however after terror alqaedas leadership becom...</td>\n",
       "      <td>terrorism</td>\n",
       "    </tr>\n",
       "    <tr>\n",
       "      <th>...</th>\n",
       "      <td>...</td>\n",
       "      <td>...</td>\n",
       "      <td>...</td>\n",
       "      <td>...</td>\n",
       "    </tr>\n",
       "    <tr>\n",
       "      <th>2521</th>\n",
       "      <td>King of Liberia was reported to have won by 2...</td>\n",
       "      <td>politics</td>\n",
       "      <td>king liberia reported have votes general elect...</td>\n",
       "      <td>politics</td>\n",
       "    </tr>\n",
       "    <tr>\n",
       "      <th>4353</th>\n",
       "      <td>Not surprisingly, scientific evidence about th...</td>\n",
       "      <td>terrorism</td>\n",
       "      <td>surprisingly scientific evidence about effecti...</td>\n",
       "      <td>terrorism</td>\n",
       "    </tr>\n",
       "    <tr>\n",
       "      <th>3373</th>\n",
       "      <td>First of all, the absence of effective govern...</td>\n",
       "      <td>politics</td>\n",
       "      <td>first absence effective governance lack capaci...</td>\n",
       "      <td>terrorism</td>\n",
       "    </tr>\n",
       "    <tr>\n",
       "      <th>1119</th>\n",
       "      <td>In a man-to-man defense, each defensive playe...</td>\n",
       "      <td>sports</td>\n",
       "      <td>mantoman defense each defensive player guards ...</td>\n",
       "      <td>sports</td>\n",
       "    </tr>\n",
       "    <tr>\n",
       "      <th>2118</th>\n",
       "      <td>The English term is derived from Anglo-Norman ...</td>\n",
       "      <td>politics</td>\n",
       "      <td>english term derived from anglonorman dates ce...</td>\n",
       "      <td>sports</td>\n",
       "    </tr>\n",
       "  </tbody>\n",
       "</table>\n",
       "<p>5416 rows × 4 columns</p>\n",
       "</div>"
      ],
      "text/plain": [
       "                                                   data   category  \\\n",
       "580   The earliest evidence that games resembling fo...     sports   \n",
       "5191   In July 2010, the US Treasury Department adde...  terrorism   \n",
       "4712   Between 1918 and 1919 in the Shia holy city o...  terrorism   \n",
       "2576   When the representative is one man, then is t...   politics   \n",
       "4869   However, after the War on Terror, al-Qaeda's ...  terrorism   \n",
       "...                                                 ...        ...   \n",
       "2521   King of Liberia was reported to have won by 2...   politics   \n",
       "4353  Not surprisingly, scientific evidence about th...  terrorism   \n",
       "3373   First of all, the absence of effective govern...   politics   \n",
       "1119   In a man-to-man defense, each defensive playe...     sports   \n",
       "2118  The English term is derived from Anglo-Norman ...   politics   \n",
       "\n",
       "                                             tidy_tweet category_decided  \n",
       "580   earliest evidence that games resembling footba...           sports  \n",
       "5191  july treasury department added list specially ...        terrorism  \n",
       "4712  between shia holy city najaf league islamic aw...        terrorism  \n",
       "2576  when representative then commonwealth monarchy...         politics  \n",
       "4869  however after terror alqaedas leadership becom...        terrorism  \n",
       "...                                                 ...              ...  \n",
       "2521  king liberia reported have votes general elect...         politics  \n",
       "4353  surprisingly scientific evidence about effecti...        terrorism  \n",
       "3373  first absence effective governance lack capaci...        terrorism  \n",
       "1119  mantoman defense each defensive player guards ...           sports  \n",
       "2118  english term derived from anglonorman dates ce...           sports  \n",
       "\n",
       "[5416 rows x 4 columns]"
      ]
     },
     "execution_count": 45,
     "metadata": {},
     "output_type": "execute_result"
    }
   ],
   "source": [
    "df\n"
   ]
  },
  {
   "cell_type": "code",
   "execution_count": 47,
   "metadata": {},
   "outputs": [
    {
     "name": "stdout",
     "output_type": "stream",
     "text": [
      "0.7795420974889217\n"
     ]
    }
   ],
   "source": [
    "print(accuracy_score(df['category'],df['category_decided']))"
   ]
  },
  {
   "cell_type": "code",
   "execution_count": 48,
   "metadata": {},
   "outputs": [
    {
     "name": "stdout",
     "output_type": "stream",
     "text": [
      "              precision    recall  f1-score   support\n",
      "\n",
      "    politics       0.83      0.58      0.68      1806\n",
      "      sports       0.96      0.84      0.90      1773\n",
      "   terrorism       0.65      0.92      0.76      1837\n",
      "\n",
      "    accuracy                           0.78      5416\n",
      "   macro avg       0.81      0.78      0.78      5416\n",
      "weighted avg       0.81      0.78      0.78      5416\n",
      "\n"
     ]
    }
   ],
   "source": [
    "print(classification_report(df['category'],df['category_decided']))"
   ]
  },
  {
   "cell_type": "code",
   "execution_count": 49,
   "metadata": {},
   "outputs": [
    {
     "name": "stdout",
     "output_type": "stream",
     "text": [
      "[[1040   46  720]\n",
      " [  83 1492  198]\n",
      " [ 124   23 1690]]\n"
     ]
    }
   ],
   "source": [
    "print(confusion_matrix(df['category'],df['category_decided']))"
   ]
  },
  {
   "cell_type": "code",
   "execution_count": 50,
   "metadata": {},
   "outputs": [],
   "source": [
    "x_train,x_test,y_train,y_test = train_test_split(df['data'],df['category_decided'],test_size=0.33,random_state=42)"
   ]
  },
  {
   "cell_type": "code",
   "execution_count": 51,
   "metadata": {},
   "outputs": [],
   "source": [
    "tf_vect = TfidfVectorizer()"
   ]
  },
  {
   "cell_type": "code",
   "execution_count": 52,
   "metadata": {},
   "outputs": [],
   "source": [
    "lin_svc = LinearSVC()"
   ]
  },
  {
   "cell_type": "code",
   "execution_count": 53,
   "metadata": {},
   "outputs": [],
   "source": [
    "rt = Pipeline([('tfidf',TfidfVectorizer(stop_words='english')),('lin_svc',LinearSVC())])"
   ]
  },
  {
   "cell_type": "code",
   "execution_count": 54,
   "metadata": {},
   "outputs": [
    {
     "data": {
      "text/plain": [
       "Pipeline(steps=[('tfidf', TfidfVectorizer(stop_words='english')),\n",
       "                ('lin_svc', LinearSVC())])"
      ]
     },
     "execution_count": 54,
     "metadata": {},
     "output_type": "execute_result"
    }
   ],
   "source": [
    "rt.fit(x_train,y_train)"
   ]
  },
  {
   "cell_type": "code",
   "execution_count": 55,
   "metadata": {},
   "outputs": [],
   "source": [
    "op = rt.predict(x_test)"
   ]
  },
  {
   "cell_type": "code",
   "execution_count": 56,
   "metadata": {},
   "outputs": [
    {
     "name": "stdout",
     "output_type": "stream",
     "text": [
      "0.9155480984340044\n"
     ]
    }
   ],
   "source": [
    "print(accuracy_score(op,y_test))"
   ]
  },
  {
   "cell_type": "code",
   "execution_count": 57,
   "metadata": {},
   "outputs": [
    {
     "name": "stdout",
     "output_type": "stream",
     "text": [
      "              precision    recall  f1-score   support\n",
      "\n",
      "    politics       0.84      0.92      0.88       371\n",
      "      sports       0.92      0.92      0.92       499\n",
      "   terrorism       0.95      0.91      0.93       918\n",
      "\n",
      "    accuracy                           0.92      1788\n",
      "   macro avg       0.90      0.92      0.91      1788\n",
      "weighted avg       0.92      0.92      0.92      1788\n",
      "\n"
     ]
    }
   ],
   "source": [
    "print(classification_report(op,y_test))"
   ]
  },
  {
   "cell_type": "code",
   "execution_count": 58,
   "metadata": {},
   "outputs": [
    {
     "name": "stdout",
     "output_type": "stream",
     "text": [
      "[[343   6  22]\n",
      " [ 14 460  25]\n",
      " [ 51  33 834]]\n"
     ]
    }
   ],
   "source": [
    "print(confusion_matrix(op,y_test))"
   ]
  },
  {
   "cell_type": "code",
   "execution_count": 59,
   "metadata": {},
   "outputs": [],
   "source": [
    "with open(\"model_pickle\",\"wb\") as f:\n",
    "    pickle.dump(rt,f)"
   ]
  },
  {
   "cell_type": "code",
   "execution_count": 60,
   "metadata": {},
   "outputs": [
    {
     "data": {
      "text/plain": [
       "array(['sports'], dtype=object)"
      ]
     },
     "execution_count": 60,
     "metadata": {},
     "output_type": "execute_result"
    }
   ],
   "source": [
    "rt.predict([\"hi i love to play football.\"])"
   ]
  },
  {
   "cell_type": "code",
   "execution_count": null,
   "metadata": {},
   "outputs": [],
   "source": []
  }
 ],
 "metadata": {
  "kernelspec": {
   "display_name": "Python 3",
   "language": "python",
   "name": "python3"
  },
  "language_info": {
   "codemirror_mode": {
    "name": "ipython",
    "version": 3
   },
   "file_extension": ".py",
   "mimetype": "text/x-python",
   "name": "python",
   "nbconvert_exporter": "python",
   "pygments_lexer": "ipython3",
   "version": "3.7.1"
  }
 },
 "nbformat": 4,
 "nbformat_minor": 5
}
