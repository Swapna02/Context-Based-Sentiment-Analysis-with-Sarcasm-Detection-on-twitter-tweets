{
 "cells": [
  {
   "cell_type": "code",
   "execution_count": 540,
   "metadata": {},
   "outputs": [],
   "source": [
    "import pandas as pd\n",
    "import numpy as np\n",
    "import re\n",
    "import string"
   ]
  },
  {
   "cell_type": "code",
   "execution_count": 541,
   "metadata": {},
   "outputs": [],
   "source": [
    "import spacy"
   ]
  },
  {
   "cell_type": "code",
   "execution_count": 536,
   "metadata": {},
   "outputs": [],
   "source": [
    "nlp=spacy.load('en_core_web_lg')"
   ]
  },
  {
   "cell_type": "code",
   "execution_count": 640,
   "metadata": {},
   "outputs": [],
   "source": [
    "doc1 = nlp(\"The president greets the press in chicago.\")\n",
    "doc2 = nlp(\"Obama is speaks to the media in Illinois.\")"
   ]
  },
  {
   "cell_type": "code",
   "execution_count": 641,
   "metadata": {},
   "outputs": [
    {
     "data": {
      "text/plain": [
       "0.8788223685599832"
      ]
     },
     "execution_count": 641,
     "metadata": {},
     "output_type": "execute_result"
    }
   ],
   "source": [
    "doc1.similarity(doc2)"
   ]
  },
  {
   "cell_type": "code",
   "execution_count": 678,
   "metadata": {},
   "outputs": [],
   "source": [
    "doc3 = nlp(\"I love a girl\")"
   ]
  },
  {
   "cell_type": "code",
   "execution_count": 679,
   "metadata": {},
   "outputs": [],
   "source": [
    "doc4= nlp(\"Rahul is playing\")"
   ]
  },
  {
   "cell_type": "code",
   "execution_count": 680,
   "metadata": {},
   "outputs": [
    {
     "data": {
      "text/plain": [
       "0.5459505990574076"
      ]
     },
     "execution_count": 680,
     "metadata": {},
     "output_type": "execute_result"
    }
   ],
   "source": [
    "doc3.similarity(doc4)"
   ]
  },
  {
   "cell_type": "code",
   "execution_count": 653,
   "metadata": {},
   "outputs": [
    {
     "data": {
      "text/plain": [
       "sport pertains form competitive physical activity game that aims maintain improve physical ability skills while providing enjoyment participants some cases entertainment spectators"
      ]
     },
     "execution_count": 653,
     "metadata": {},
     "output_type": "execute_result"
    }
   ],
   "source": [
    "doc3"
   ]
  },
  {
   "cell_type": "code",
   "execution_count": 654,
   "metadata": {},
   "outputs": [
    {
     "data": {
      "text/plain": [
       "according libertarian institute humane studies libertarian classical liberal perspective that individual wellbeing prosperity social harmony fostered much liberty possible little government necessary"
      ]
     },
     "execution_count": 654,
     "metadata": {},
     "output_type": "execute_result"
    }
   ],
   "source": [
    "doc4"
   ]
  },
  {
   "cell_type": "code",
   "execution_count": 647,
   "metadata": {},
   "outputs": [],
   "source": [
    "# df.value_counts()\n",
    "# df[1998:2001]"
   ]
  },
  {
   "cell_type": "code",
   "execution_count": 650,
   "metadata": {},
   "outputs": [
    {
     "data": {
      "text/html": [
       "<div>\n",
       "<style scoped>\n",
       "    .dataframe tbody tr th:only-of-type {\n",
       "        vertical-align: middle;\n",
       "    }\n",
       "\n",
       "    .dataframe tbody tr th {\n",
       "        vertical-align: top;\n",
       "    }\n",
       "\n",
       "    .dataframe thead th {\n",
       "        text-align: right;\n",
       "    }\n",
       "</style>\n",
       "<table border=\"1\" class=\"dataframe\">\n",
       "  <thead>\n",
       "    <tr style=\"text-align: right;\">\n",
       "      <th></th>\n",
       "      <th>data</th>\n",
       "      <th>category</th>\n",
       "      <th>clean_text</th>\n",
       "      <th>tidy_tweet</th>\n",
       "      <th>topic</th>\n",
       "      <th>category_decided</th>\n",
       "    </tr>\n",
       "  </thead>\n",
       "  <tbody>\n",
       "    <tr>\n",
       "      <th>1998</th>\n",
       "      <td>According to the libertarian Institute for Hu...</td>\n",
       "      <td>politics</td>\n",
       "      <td>according to the libertarian institute for hum...</td>\n",
       "      <td>according libertarian institute humane studies...</td>\n",
       "      <td>2</td>\n",
       "      <td>terrorism</td>\n",
       "    </tr>\n",
       "    <tr>\n",
       "      <th>1999</th>\n",
       "      <td>Susan Brown (1993), \"liberalism and anarchism...</td>\n",
       "      <td>politics</td>\n",
       "      <td>susan brown 1993 liberalism and anarchism are ...</td>\n",
       "      <td>susan brown liberalism anarchism political phi...</td>\n",
       "      <td>2</td>\n",
       "      <td>terrorism</td>\n",
       "    </tr>\n",
       "    <tr>\n",
       "      <th>2000</th>\n",
       "      <td>Anarchism shares with liberalism a radical co...</td>\n",
       "      <td>politics</td>\n",
       "      <td>anarchism shares with liberalism a radical com...</td>\n",
       "      <td>anarchism shares with liberalism radical commi...</td>\n",
       "      <td>2</td>\n",
       "      <td>terrorism</td>\n",
       "    </tr>\n",
       "    <tr>\n",
       "      <th>2001</th>\n",
       "      <td>Index of politics articles – alphabetical list...</td>\n",
       "      <td>politics</td>\n",
       "      <td>index of politics articles – alphabetical list...</td>\n",
       "      <td>index politics articles alphabetical list poli...</td>\n",
       "      <td>2</td>\n",
       "      <td>terrorism</td>\n",
       "    </tr>\n",
       "    <tr>\n",
       "      <th>2002</th>\n",
       "      <td>Outline of political science – structured list...</td>\n",
       "      <td>politics</td>\n",
       "      <td>outline of political science – structured list...</td>\n",
       "      <td>outline political science structured list poli...</td>\n",
       "      <td>2</td>\n",
       "      <td>terrorism</td>\n",
       "    </tr>\n",
       "    <tr>\n",
       "      <th>2003</th>\n",
       "      <td>On Politics: A History of Political Thought f...</td>\n",
       "      <td>politics</td>\n",
       "      <td>on politics a history of political thought fro...</td>\n",
       "      <td>politics history political thought from herodo...</td>\n",
       "      <td>2</td>\n",
       "      <td>terrorism</td>\n",
       "    </tr>\n",
       "  </tbody>\n",
       "</table>\n",
       "</div>"
      ],
      "text/plain": [
       "                                                   data  category  \\\n",
       "1998   According to the libertarian Institute for Hu...  politics   \n",
       "1999   Susan Brown (1993), \"liberalism and anarchism...  politics   \n",
       "2000   Anarchism shares with liberalism a radical co...  politics   \n",
       "2001  Index of politics articles – alphabetical list...  politics   \n",
       "2002  Outline of political science – structured list...  politics   \n",
       "2003   On Politics: A History of Political Thought f...  politics   \n",
       "\n",
       "                                             clean_text  \\\n",
       "1998  according to the libertarian institute for hum...   \n",
       "1999  susan brown 1993 liberalism and anarchism are ...   \n",
       "2000  anarchism shares with liberalism a radical com...   \n",
       "2001  index of politics articles – alphabetical list...   \n",
       "2002  outline of political science – structured list...   \n",
       "2003  on politics a history of political thought fro...   \n",
       "\n",
       "                                             tidy_tweet  topic  \\\n",
       "1998  according libertarian institute humane studies...      2   \n",
       "1999  susan brown liberalism anarchism political phi...      2   \n",
       "2000  anarchism shares with liberalism radical commi...      2   \n",
       "2001  index politics articles alphabetical list poli...      2   \n",
       "2002  outline political science structured list poli...      2   \n",
       "2003  politics history political thought from herodo...      2   \n",
       "\n",
       "     category_decided  \n",
       "1998        terrorism  \n",
       "1999        terrorism  \n",
       "2000        terrorism  \n",
       "2001        terrorism  \n",
       "2002        terrorism  \n",
       "2003        terrorism  "
      ]
     },
     "execution_count": 650,
     "metadata": {},
     "output_type": "execute_result"
    }
   ],
   "source": [
    "df[1998:2004]"
   ]
  },
  {
   "cell_type": "code",
   "execution_count": 110,
   "metadata": {},
   "outputs": [],
   "source": [
    "import re"
   ]
  },
  {
   "cell_type": "code",
   "execution_count": 111,
   "metadata": {},
   "outputs": [],
   "source": [
    "def clean_text(text):\n",
    "    text = text.lower()\n",
    "    text = \" \".join(filter(lambda x:x[0]!='@', text.split()))\n",
    "#     emoji = re.compile(\"[\"\n",
    "#                            u\"\\U0001F600-\\U0001FFFF\"  # emoticons\n",
    "#                            u\"\\U0001F300-\\U0001F5FF\"  # symbols & pictographs\n",
    "#                            u\"\\U0001F680-\\U0001F6FF\"  # transport & map symbols\n",
    "#                            u\"\\U0001F1E0-\\U0001F1FF\"  # flags (iOS)\n",
    "#                            u\"\\U00002702-\\U000027B0\"\n",
    "#                            u\"\\U000024C2-\\U0001F251\"\n",
    "#                            \"]+\", flags=re.UNICODE)\n",
    "   \n",
    "#     text = emoji.sub(r'', text)\n",
    "    text = text.lower()\n",
    "    text = re.sub(r\"[,.\\\"\\'!@#$%^&*(){}?/;`~:<>+=-]\", \"\", text)\n",
    "    return text"
   ]
  },
  {
   "cell_type": "code",
   "execution_count": 112,
   "metadata": {},
   "outputs": [],
   "source": [
    "new_text=[]\n",
    "for text in df['data']:  \n",
    "      new_text.append(clean_text(text))\n",
    "df['clean_text']=new_text"
   ]
  },
  {
   "cell_type": "code",
   "execution_count": 372,
   "metadata": {},
   "outputs": [
    {
     "data": {
      "text/html": [
       "<div>\n",
       "<style scoped>\n",
       "    .dataframe tbody tr th:only-of-type {\n",
       "        vertical-align: middle;\n",
       "    }\n",
       "\n",
       "    .dataframe tbody tr th {\n",
       "        vertical-align: top;\n",
       "    }\n",
       "\n",
       "    .dataframe thead th {\n",
       "        text-align: right;\n",
       "    }\n",
       "</style>\n",
       "<table border=\"1\" class=\"dataframe\">\n",
       "  <thead>\n",
       "    <tr style=\"text-align: right;\">\n",
       "      <th></th>\n",
       "      <th>data</th>\n",
       "      <th>category</th>\n",
       "      <th>clean_text</th>\n",
       "      <th>tidy_tweet</th>\n",
       "      <th>topic</th>\n",
       "      <th>category_decided</th>\n",
       "    </tr>\n",
       "  </thead>\n",
       "  <tbody>\n",
       "    <tr>\n",
       "      <th>0</th>\n",
       "      <td>Sport pertains to any form of competitive phys...</td>\n",
       "      <td>sports</td>\n",
       "      <td>sport pertains to any form of competitive phys...</td>\n",
       "      <td>sport pertains form competitive physical activ...</td>\n",
       "      <td>0</td>\n",
       "      <td>sports</td>\n",
       "    </tr>\n",
       "    <tr>\n",
       "      <th>1</th>\n",
       "      <td>Sports can, through casual or organized parti...</td>\n",
       "      <td>sports</td>\n",
       "      <td>sports can through casual or organized partici...</td>\n",
       "      <td>sports through casual organized participation ...</td>\n",
       "      <td>0</td>\n",
       "      <td>sports</td>\n",
       "    </tr>\n",
       "    <tr>\n",
       "      <th>2</th>\n",
       "      <td>Hundreds of sports exist, from those between ...</td>\n",
       "      <td>sports</td>\n",
       "      <td>hundreds of sports exist from those between si...</td>\n",
       "      <td>hundreds sports exist from those between singl...</td>\n",
       "      <td>0</td>\n",
       "      <td>sports</td>\n",
       "    </tr>\n",
       "    <tr>\n",
       "      <th>3</th>\n",
       "      <td>In certain sports such as racing, many contes...</td>\n",
       "      <td>sports</td>\n",
       "      <td>in certain sports such as racing many contesta...</td>\n",
       "      <td>certain sports such racing many contestants co...</td>\n",
       "      <td>0</td>\n",
       "      <td>sports</td>\n",
       "    </tr>\n",
       "    <tr>\n",
       "      <th>4</th>\n",
       "      <td>Some sports allow a \"tie\" or \"draw\", in which...</td>\n",
       "      <td>sports</td>\n",
       "      <td>some sports allow a tie or draw in which there...</td>\n",
       "      <td>some sports allow draw which there single winn...</td>\n",
       "      <td>0</td>\n",
       "      <td>sports</td>\n",
       "    </tr>\n",
       "  </tbody>\n",
       "</table>\n",
       "</div>"
      ],
      "text/plain": [
       "                                                data category  \\\n",
       "0  Sport pertains to any form of competitive phys...   sports   \n",
       "1   Sports can, through casual or organized parti...   sports   \n",
       "2   Hundreds of sports exist, from those between ...   sports   \n",
       "3   In certain sports such as racing, many contes...   sports   \n",
       "4   Some sports allow a \"tie\" or \"draw\", in which...   sports   \n",
       "\n",
       "                                          clean_text  \\\n",
       "0  sport pertains to any form of competitive phys...   \n",
       "1  sports can through casual or organized partici...   \n",
       "2  hundreds of sports exist from those between si...   \n",
       "3  in certain sports such as racing many contesta...   \n",
       "4  some sports allow a tie or draw in which there...   \n",
       "\n",
       "                                          tidy_tweet  topic category_decided  \n",
       "0  sport pertains form competitive physical activ...      0           sports  \n",
       "1  sports through casual organized participation ...      0           sports  \n",
       "2  hundreds sports exist from those between singl...      0           sports  \n",
       "3  certain sports such racing many contestants co...      0           sports  \n",
       "4  some sports allow draw which there single winn...      0           sports  "
      ]
     },
     "execution_count": 372,
     "metadata": {},
     "output_type": "execute_result"
    }
   ],
   "source": [
    "df.head()"
   ]
  },
  {
   "cell_type": "code",
   "execution_count": null,
   "metadata": {},
   "outputs": [],
   "source": []
  },
  {
   "cell_type": "code",
   "execution_count": 373,
   "metadata": {},
   "outputs": [
    {
     "data": {
      "text/plain": [
       "'sport pertains form competitive physical activity game that aims maintain improve physical ability skills while providing enjoyment participants some cases entertainment spectators'"
      ]
     },
     "execution_count": 373,
     "metadata": {},
     "output_type": "execute_result"
    }
   ],
   "source": [
    "df['tidy_tweet'][0]"
   ]
  },
  {
   "cell_type": "code",
   "execution_count": 49,
   "metadata": {
    "scrolled": true
   },
   "outputs": [
    {
     "data": {
      "text/plain": [
       "0    14985\n",
       "1    11724\n",
       "Name: is_sarcastic, dtype: int64"
      ]
     },
     "execution_count": 49,
     "metadata": {},
     "output_type": "execute_result"
    }
   ],
   "source": [
    "df['is_sarcastic'].value_counts()"
   ]
  },
  {
   "cell_type": "code",
   "execution_count": 50,
   "metadata": {},
   "outputs": [],
   "source": [
    "from sklearn.model_selection import train_test_split"
   ]
  },
  {
   "cell_type": "code",
   "execution_count": 51,
   "metadata": {},
   "outputs": [],
   "source": [
    "X=df['headline'].values\n",
    "y=df['is_sarcastic'].values"
   ]
  },
  {
   "cell_type": "code",
   "execution_count": 52,
   "metadata": {},
   "outputs": [],
   "source": [
    "X_train,X_test,y_train,y_test=train_test_split(X,y,test_size=0.3,random_state=42)"
   ]
  },
  {
   "cell_type": "code",
   "execution_count": 53,
   "metadata": {},
   "outputs": [
    {
     "data": {
      "text/plain": [
       "\"former versace store clerk sues over secret 'black code' for minority shoppers\""
      ]
     },
     "execution_count": 53,
     "metadata": {},
     "output_type": "execute_result"
    }
   ],
   "source": [
    "df['headline'][0]"
   ]
  },
  {
   "cell_type": "code",
   "execution_count": 54,
   "metadata": {},
   "outputs": [
    {
     "data": {
      "text/plain": [
       "14"
      ]
     },
     "execution_count": 54,
     "metadata": {},
     "output_type": "execute_result"
    }
   ],
   "source": [
    "len(nlp(df['headline'][0]))"
   ]
  },
  {
   "cell_type": "code",
   "execution_count": 55,
   "metadata": {},
   "outputs": [],
   "source": [
    "# ls=[]\n",
    "# for i in range(0,26709):\n",
    "#     for token in nlp(df['headline'][i]):\n",
    "#         ls.append(token)"
   ]
  },
  {
   "cell_type": "code",
   "execution_count": 56,
   "metadata": {},
   "outputs": [],
   "source": [
    "# len(ls)"
   ]
  },
  {
   "cell_type": "code",
   "execution_count": 57,
   "metadata": {},
   "outputs": [],
   "source": [
    "# vocab=set()\n",
    "# for i in range(0,26709):\n",
    "#     for token in nlp(df['headline'][i]):\n",
    "#         vocab.add(token)"
   ]
  },
  {
   "cell_type": "code",
   "execution_count": 58,
   "metadata": {},
   "outputs": [],
   "source": [
    "# len(vocab)"
   ]
  },
  {
   "cell_type": "code",
   "execution_count": 59,
   "metadata": {},
   "outputs": [],
   "source": [
    "# vocab_size=len(vocab)"
   ]
  },
  {
   "cell_type": "code",
   "execution_count": 60,
   "metadata": {},
   "outputs": [],
   "source": [
    "# x=0\n",
    "# for i in range(0,26709):\n",
    "#     p=0\n",
    "#     for token in nlp(df['headline'][i]):\n",
    "#       p+=1\n",
    "#     x=max(x,p)"
   ]
  },
  {
   "cell_type": "code",
   "execution_count": 61,
   "metadata": {},
   "outputs": [],
   "source": [
    "# (nlp(df['headline']))"
   ]
  },
  {
   "cell_type": "code",
   "execution_count": 62,
   "metadata": {},
   "outputs": [],
   "source": [
    "from keras.preprocessing.text import Tokenizer\n",
    "from keras.preprocessing.sequence import pad_sequences"
   ]
  },
  {
   "cell_type": "code",
   "execution_count": 63,
   "metadata": {},
   "outputs": [],
   "source": [
    "vocab_size=3000\n",
    "embedding_dim=32\n",
    "max_len=32\n",
    "trunc_type='post'\n",
    "padding_type='post'"
   ]
  },
  {
   "cell_type": "code",
   "execution_count": 64,
   "metadata": {},
   "outputs": [],
   "source": [
    "tokenizer= Tokenizer(num_words=vocab_size, oov_token='OOV')\n",
    "tokenizer.fit_on_texts(X_train)\n",
    "\n",
    "training_sequences=tokenizer.texts_to_sequences(X_train)\n",
    "training_padded=pad_sequences(training_sequences, maxlen=max_len, padding=padding_type, truncating=trunc_type)\n",
    "\n",
    "testing_sequences=tokenizer.texts_to_sequences(X_test)\n",
    "testing_padded=pad_sequences(testing_sequences, maxlen=max_len, padding=padding_type, truncating=trunc_type)"
   ]
  },
  {
   "cell_type": "code",
   "execution_count": 65,
   "metadata": {},
   "outputs": [],
   "source": [
    "from keras.models import Sequential\n",
    "from keras.layers import Dense,LSTM,Embedding,Flatten,Dropout\n",
    "from tensorflow import keras\n"
   ]
  },
  {
   "cell_type": "code",
   "execution_count": 66,
   "metadata": {},
   "outputs": [],
   "source": [
    "def create_model(vocabulary_size,embedding_dim,seq_len):\n",
    "    model=Sequential()\n",
    "    model.add(Embedding(vocabulary_size,embedding_dim,input_length=seq_len))\n",
    "#     model.add(Flatten())\n",
    "    model.add(LSTM(64,dropout=0.2,recurrent_dropout=0.25))\n",
    "#     model.add(LSTM(64))\n",
    "    model.add(Dense(1,activation='sigmoid'))\n",
    "    opt = keras.optimizers.Adam(learning_rate=0.01)\n",
    "    model.compile(loss='binary_crossentropy',optimizer=opt,metrics=['accuracy'])\n",
    "    model.summary()\n",
    "    return model"
   ]
  },
  {
   "cell_type": "code",
   "execution_count": 67,
   "metadata": {},
   "outputs": [
    {
     "name": "stdout",
     "output_type": "stream",
     "text": [
      "Model: \"sequential\"\n",
      "_________________________________________________________________\n",
      "Layer (type)                 Output Shape              Param #   \n",
      "=================================================================\n",
      "embedding (Embedding)        (None, 32, 32)            96032     \n",
      "_________________________________________________________________\n",
      "lstm (LSTM)                  (None, 64)                24832     \n",
      "_________________________________________________________________\n",
      "dense (Dense)                (None, 1)                 65        \n",
      "=================================================================\n",
      "Total params: 120,929\n",
      "Trainable params: 120,929\n",
      "Non-trainable params: 0\n",
      "_________________________________________________________________\n"
     ]
    }
   ],
   "source": [
    "model=create_model(vocab_size+1,embedding_dim,max_len)"
   ]
  },
  {
   "cell_type": "code",
   "execution_count": 68,
   "metadata": {},
   "outputs": [],
   "source": [
    "from keras.callbacks import EarlyStopping\n",
    "es = EarlyStopping(monitor='val_loss', mode='min', verbose=2, patience=7)"
   ]
  },
  {
   "cell_type": "code",
   "execution_count": 69,
   "metadata": {},
   "outputs": [
    {
     "name": "stdout",
     "output_type": "stream",
     "text": [
      "Epoch 1/50\n",
      "147/147 - 13s - loss: 0.6297 - accuracy: 0.6554 - val_loss: 0.6059 - val_accuracy: 0.7080\n",
      "Epoch 2/50\n",
      "147/147 - 9s - loss: 0.6207 - accuracy: 0.6403 - val_loss: 0.4388 - val_accuracy: 0.8074\n",
      "Epoch 3/50\n",
      "147/147 - 9s - loss: 0.3742 - accuracy: 0.8387 - val_loss: 0.3748 - val_accuracy: 0.8288\n",
      "Epoch 4/50\n",
      "147/147 - 9s - loss: 0.2862 - accuracy: 0.8802 - val_loss: 0.3559 - val_accuracy: 0.8409\n",
      "Epoch 5/50\n",
      "147/147 - 7s - loss: 0.2402 - accuracy: 0.9002 - val_loss: 0.3661 - val_accuracy: 0.8460\n",
      "Epoch 6/50\n",
      "147/147 - 7s - loss: 0.2087 - accuracy: 0.9152 - val_loss: 0.3941 - val_accuracy: 0.8486\n",
      "Epoch 7/50\n",
      "147/147 - 7s - loss: 0.1806 - accuracy: 0.9295 - val_loss: 0.4181 - val_accuracy: 0.8423\n",
      "Epoch 8/50\n",
      "147/147 - 7s - loss: 0.1587 - accuracy: 0.9382 - val_loss: 0.4442 - val_accuracy: 0.8456\n",
      "Epoch 9/50\n",
      "147/147 - 7s - loss: 0.1507 - accuracy: 0.9392 - val_loss: 0.5325 - val_accuracy: 0.8448\n",
      "Epoch 10/50\n",
      "147/147 - 7s - loss: 0.1317 - accuracy: 0.9476 - val_loss: 0.4644 - val_accuracy: 0.8445\n",
      "Epoch 11/50\n",
      "147/147 - 7s - loss: 0.1243 - accuracy: 0.9524 - val_loss: 0.5053 - val_accuracy: 0.8428\n",
      "Epoch 00011: early stopping\n"
     ]
    },
    {
     "data": {
      "text/plain": [
       "<tensorflow.python.keras.callbacks.History at 0x2608b627f28>"
      ]
     },
     "execution_count": 69,
     "metadata": {},
     "output_type": "execute_result"
    }
   ],
   "source": [
    "model.fit(training_padded,y_train,batch_size=128,epochs=50,verbose=2,validation_data=(testing_padded,y_test),callbacks=[es])"
   ]
  },
  {
   "cell_type": "code",
   "execution_count": 70,
   "metadata": {},
   "outputs": [],
   "source": [
    "def prediction_text(sent):\n",
    "    sent=[sent]\n",
    "    seq=tokenizer.texts_to_sequences(sent)\n",
    "    padded=pad_sequences(seq,maxlen=max_len,padding=padding_type, truncating=trunc_type)\n",
    "    return model.predict(padded)\n",
    "    "
   ]
  },
  {
   "cell_type": "code",
   "execution_count": 71,
   "metadata": {},
   "outputs": [
    {
     "name": "stdout",
     "output_type": "stream",
     "text": [
      "[[0.21974695]]\n"
     ]
    }
   ],
   "source": [
    "sent=\"you broke my car,good job!\"\n",
    "print(prediction_text(sent)) "
   ]
  },
  {
   "cell_type": "code",
   "execution_count": 72,
   "metadata": {},
   "outputs": [
    {
     "name": "stdout",
     "output_type": "stream",
     "text": [
      "Model: \"sequential_1\"\n",
      "_________________________________________________________________\n",
      "Layer (type)                 Output Shape              Param #   \n",
      "=================================================================\n",
      "embedding_1 (Embedding)      (None, 32, 32)            96000     \n",
      "_________________________________________________________________\n",
      "flatten (Flatten)            (None, 1024)              0         \n",
      "_________________________________________________________________\n",
      "dense_1 (Dense)              (None, 32)                32800     \n",
      "_________________________________________________________________\n",
      "dropout (Dropout)            (None, 32)                0         \n",
      "_________________________________________________________________\n",
      "dense_2 (Dense)              (None, 10)                330       \n",
      "_________________________________________________________________\n",
      "dropout_1 (Dropout)          (None, 10)                0         \n",
      "_________________________________________________________________\n",
      "dense_3 (Dense)              (None, 1)                 11        \n",
      "=================================================================\n",
      "Total params: 129,141\n",
      "Trainable params: 129,141\n",
      "Non-trainable params: 0\n",
      "_________________________________________________________________\n"
     ]
    }
   ],
   "source": [
    "# 2nd model\n",
    "model2 = Sequential()\n",
    "model2.add(Embedding(vocab_size, embedding_dim, input_length=max_len))\n",
    "model2.add(Flatten())\n",
    "\n",
    "model2.add(Dense(units=32,activation='relu'))\n",
    "model2.add(Dropout(0.5))\n",
    "\n",
    "model2.add(Dense(units=10,activation='relu'))\n",
    "model2.add(Dropout(0.5))\n",
    "\n",
    "model2.add(Dense(units=1,activation='sigmoid'))\n",
    "opt = keras.optimizers.Adam(learning_rate=0.01)\n",
    "model2.compile(loss='binary_crossentropy', optimizer=opt, metrics=['accuracy'])\n",
    "model2.summary()"
   ]
  },
  {
   "cell_type": "code",
   "execution_count": 73,
   "metadata": {},
   "outputs": [],
   "source": [
    "from keras.callbacks import EarlyStopping\n",
    "es = EarlyStopping(monitor='val_loss', mode='min', verbose=2, patience=7)"
   ]
  },
  {
   "cell_type": "code",
   "execution_count": 74,
   "metadata": {},
   "outputs": [
    {
     "name": "stdout",
     "output_type": "stream",
     "text": [
      "Epoch 1/10\n",
      "147/147 - 1s - loss: 0.5109 - accuracy: 0.7307 - val_loss: 0.3679 - val_accuracy: 0.8380\n",
      "Epoch 2/10\n",
      "147/147 - 1s - loss: 0.3318 - accuracy: 0.8647 - val_loss: 0.3457 - val_accuracy: 0.8401\n",
      "Epoch 3/10\n",
      "147/147 - 1s - loss: 0.2524 - accuracy: 0.9009 - val_loss: 0.4013 - val_accuracy: 0.8487\n",
      "Epoch 4/10\n",
      "147/147 - 0s - loss: 0.1823 - accuracy: 0.9305 - val_loss: 0.4771 - val_accuracy: 0.8436\n",
      "Epoch 5/10\n",
      "147/147 - 0s - loss: 0.1454 - accuracy: 0.9461 - val_loss: 0.5855 - val_accuracy: 0.8309\n",
      "Epoch 6/10\n",
      "147/147 - 0s - loss: 0.1140 - accuracy: 0.9575 - val_loss: 0.7532 - val_accuracy: 0.8345\n",
      "Epoch 7/10\n",
      "147/147 - 1s - loss: 0.0930 - accuracy: 0.9647 - val_loss: 0.8519 - val_accuracy: 0.8308\n",
      "Epoch 8/10\n",
      "147/147 - 1s - loss: 0.0793 - accuracy: 0.9714 - val_loss: 1.2169 - val_accuracy: 0.8280\n",
      "Epoch 9/10\n",
      "147/147 - 1s - loss: 0.0635 - accuracy: 0.9763 - val_loss: 1.3966 - val_accuracy: 0.8237\n",
      "Epoch 00009: early stopping\n"
     ]
    },
    {
     "data": {
      "text/plain": [
       "<tensorflow.python.keras.callbacks.History at 0x2608a47e5c0>"
      ]
     },
     "execution_count": 74,
     "metadata": {},
     "output_type": "execute_result"
    }
   ],
   "source": [
    "model2.fit(training_padded,y_train,batch_size=128,epochs=10,verbose=2,validation_data=(testing_padded,y_test),callbacks=[es])"
   ]
  },
  {
   "cell_type": "code",
   "execution_count": null,
   "metadata": {},
   "outputs": [],
   "source": []
  },
  {
   "cell_type": "code",
   "execution_count": null,
   "metadata": {},
   "outputs": [],
   "source": []
  }
 ],
 "metadata": {
  "kernelspec": {
   "display_name": "Python 3",
   "language": "python",
   "name": "python3"
  },
  "language_info": {
   "codemirror_mode": {
    "name": "ipython",
    "version": 3
   },
   "file_extension": ".py",
   "mimetype": "text/x-python",
   "name": "python",
   "nbconvert_exporter": "python",
   "pygments_lexer": "ipython3",
   "version": "3.7.1"
  }
 },
 "nbformat": 4,
 "nbformat_minor": 5
}
